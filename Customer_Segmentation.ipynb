{
  "nbformat": 4,
  "nbformat_minor": 0,
  "metadata": {
    "colab": {
      "name": "Customer Segmentation.ipynb",
      "provenance": [],
      "collapsed_sections": []
    },
    "kernelspec": {
      "name": "python3",
      "display_name": "Python 3"
    }
  },
  "cells": [
    {
      "cell_type": "markdown",
      "metadata": {
        "id": "D0sm_1L9wdkd",
        "colab_type": "text"
      },
      "source": [
        "# __Customer Segmentation Project__\n",
        "\n",
        "Code example sourced from: https://github.com/SarahMestiri/online-retail-case/blob/master/Customer%20Segmentation%20-%20Online%20retail.ipynb\n",
        "\n",
        "The author of the code is Sarah Mestiri. I found her analysis very thorough and decided to use it as an example for my project by adding some visualization and deploying it into dash. \n",
        "\n",
        "The **goals** of this project is to improve revenues of the company by segmentation of its customers and then target them with personal offers.\n",
        "\n",
        "__Plan of Attack:__\n",
        "\n",
        "1. Do **RFM Analysis** \n",
        "\n",
        "2. Combine RFM with **predictive algorithms (k-means)**.\n",
        "\n",
        "__RFM Analysis__ answers the following questions:\n",
        "\n",
        "* Who are our best customers?\n",
        "* Who has the potential to be converted in more profitable customers?\n",
        "* Which customers we must retain?\n",
        "* Which group of customers is most likely to respond to the marketing campaign?\n",
        "\n",
        "More about RFM [here](https://putler.com/rfm-analysis/)."
      ]
    },
    {
      "cell_type": "markdown",
      "metadata": {
        "id": "KJLDfYBux-vA",
        "colab_type": "text"
      },
      "source": [
        "## __Import Necessary Modules__"
      ]
    },
    {
      "cell_type": "code",
      "metadata": {
        "id": "pXJoKkHpwYKH",
        "colab_type": "code",
        "colab": {}
      },
      "source": [
        "import pandas as pd\n",
        "import numpy as np\n",
        "\n",
        "import time, warnings\n",
        "import datetime as dt\n",
        "import altair as alt\n",
        "\n",
        "#Predictive models\n",
        "import sklearn.cluster as cluster\n",
        "from sklearn.cluster import KMeans\n",
        "from sklearn.decomposition import PCA\n",
        "from sklearn.mixture import GaussianMixture\n",
        "\n",
        "from sklearn.metrics import silhouette_samples, silhouette_score\n",
        "\n",
        "#Data viz\n",
        "import matplotlib.pyplot as plt\n",
        "from pandas.plotting import scatter_matrix\n",
        "%matplotlib inline\n",
        "import seaborn as sns\n",
        "\n",
        "warnings.filterwarnings('ignore')"
      ],
      "execution_count": 0,
      "outputs": []
    },
    {
      "cell_type": "markdown",
      "metadata": {
        "id": "EQULA7Z_7Ac2",
        "colab_type": "text"
      },
      "source": [
        "## __Data pre-Processing__"
      ]
    },
    {
      "cell_type": "code",
      "metadata": {
        "id": "ZpNkOvvN6WX_",
        "colab_type": "code",
        "outputId": "bf12098c-aa8b-47b4-a1f1-ad3c6157e5f5",
        "colab": {
          "base_uri": "https://localhost:8080/",
          "height": 197
        }
      },
      "source": [
        "#Load the dataset\n",
        "retail_df = pd.read_excel('/content/Online Retail.xlsx')\n",
        "retail_df.head()"
      ],
      "execution_count": 0,
      "outputs": [
        {
          "output_type": "execute_result",
          "data": {
            "text/html": [
              "<div>\n",
              "<style scoped>\n",
              "    .dataframe tbody tr th:only-of-type {\n",
              "        vertical-align: middle;\n",
              "    }\n",
              "\n",
              "    .dataframe tbody tr th {\n",
              "        vertical-align: top;\n",
              "    }\n",
              "\n",
              "    .dataframe thead th {\n",
              "        text-align: right;\n",
              "    }\n",
              "</style>\n",
              "<table border=\"1\" class=\"dataframe\">\n",
              "  <thead>\n",
              "    <tr style=\"text-align: right;\">\n",
              "      <th></th>\n",
              "      <th>InvoiceNo</th>\n",
              "      <th>StockCode</th>\n",
              "      <th>Description</th>\n",
              "      <th>Quantity</th>\n",
              "      <th>InvoiceDate</th>\n",
              "      <th>UnitPrice</th>\n",
              "      <th>CustomerID</th>\n",
              "      <th>Country</th>\n",
              "    </tr>\n",
              "  </thead>\n",
              "  <tbody>\n",
              "    <tr>\n",
              "      <th>0</th>\n",
              "      <td>536365</td>\n",
              "      <td>85123A</td>\n",
              "      <td>WHITE HANGING HEART T-LIGHT HOLDER</td>\n",
              "      <td>6</td>\n",
              "      <td>2010-12-01 08:26:00</td>\n",
              "      <td>2.55</td>\n",
              "      <td>17850.0</td>\n",
              "      <td>United Kingdom</td>\n",
              "    </tr>\n",
              "    <tr>\n",
              "      <th>1</th>\n",
              "      <td>536365</td>\n",
              "      <td>71053</td>\n",
              "      <td>WHITE METAL LANTERN</td>\n",
              "      <td>6</td>\n",
              "      <td>2010-12-01 08:26:00</td>\n",
              "      <td>3.39</td>\n",
              "      <td>17850.0</td>\n",
              "      <td>United Kingdom</td>\n",
              "    </tr>\n",
              "    <tr>\n",
              "      <th>2</th>\n",
              "      <td>536365</td>\n",
              "      <td>84406B</td>\n",
              "      <td>CREAM CUPID HEARTS COAT HANGER</td>\n",
              "      <td>8</td>\n",
              "      <td>2010-12-01 08:26:00</td>\n",
              "      <td>2.75</td>\n",
              "      <td>17850.0</td>\n",
              "      <td>United Kingdom</td>\n",
              "    </tr>\n",
              "    <tr>\n",
              "      <th>3</th>\n",
              "      <td>536365</td>\n",
              "      <td>84029G</td>\n",
              "      <td>KNITTED UNION FLAG HOT WATER BOTTLE</td>\n",
              "      <td>6</td>\n",
              "      <td>2010-12-01 08:26:00</td>\n",
              "      <td>3.39</td>\n",
              "      <td>17850.0</td>\n",
              "      <td>United Kingdom</td>\n",
              "    </tr>\n",
              "    <tr>\n",
              "      <th>4</th>\n",
              "      <td>536365</td>\n",
              "      <td>84029E</td>\n",
              "      <td>RED WOOLLY HOTTIE WHITE HEART.</td>\n",
              "      <td>6</td>\n",
              "      <td>2010-12-01 08:26:00</td>\n",
              "      <td>3.39</td>\n",
              "      <td>17850.0</td>\n",
              "      <td>United Kingdom</td>\n",
              "    </tr>\n",
              "  </tbody>\n",
              "</table>\n",
              "</div>"
            ],
            "text/plain": [
              "  InvoiceNo StockCode  ... CustomerID         Country\n",
              "0    536365    85123A  ...    17850.0  United Kingdom\n",
              "1    536365     71053  ...    17850.0  United Kingdom\n",
              "2    536365    84406B  ...    17850.0  United Kingdom\n",
              "3    536365    84029G  ...    17850.0  United Kingdom\n",
              "4    536365    84029E  ...    17850.0  United Kingdom\n",
              "\n",
              "[5 rows x 8 columns]"
            ]
          },
          "metadata": {
            "tags": []
          },
          "execution_count": 6
        }
      ]
    },
    {
      "cell_type": "code",
      "metadata": {
        "id": "WQsPjpnRx3-B",
        "colab_type": "code",
        "outputId": "18d1424b-38eb-40df-d90d-7f70e1a727e0",
        "colab": {
          "base_uri": "https://localhost:8080/",
          "height": 162
        }
      },
      "source": [
        "retail_df.Country.unique()"
      ],
      "execution_count": 0,
      "outputs": [
        {
          "output_type": "execute_result",
          "data": {
            "text/plain": [
              "array(['United Kingdom', 'France', 'Australia', 'Netherlands', 'Germany',\n",
              "       'Norway', 'EIRE', 'Switzerland', 'Spain', 'Poland', 'Portugal',\n",
              "       'Italy', 'Belgium', 'Lithuania', 'Japan', 'Iceland',\n",
              "       'Channel Islands', 'Denmark', 'Cyprus', 'Sweden', 'Austria',\n",
              "       'Israel', 'Finland', 'Bahrain', 'Greece', 'Hong Kong', 'Singapore',\n",
              "       'Lebanon', 'United Arab Emirates', 'Saudi Arabia',\n",
              "       'Czech Republic', 'Canada', 'Unspecified', 'Brazil', 'USA',\n",
              "       'European Community', 'Malta', 'RSA'], dtype=object)"
            ]
          },
          "metadata": {
            "tags": []
          },
          "execution_count": 7
        }
      ]
    },
    {
      "cell_type": "code",
      "metadata": {
        "id": "nFgLo-1TwRff",
        "colab_type": "code",
        "outputId": "14d716d3-3006-4421-f94e-6141cb0cf2ce",
        "colab": {
          "base_uri": "https://localhost:8080/",
          "height": 35
        }
      },
      "source": [
        "retail_uk = retail_df[retail_df['Country']=='United Kingdom']\n",
        "#check the shape\n",
        "retail_uk.shape"
      ],
      "execution_count": 0,
      "outputs": [
        {
          "output_type": "execute_result",
          "data": {
            "text/plain": [
              "(495478, 8)"
            ]
          },
          "metadata": {
            "tags": []
          },
          "execution_count": 8
        }
      ]
    },
    {
      "cell_type": "code",
      "metadata": {
        "id": "VM9f_NUfxKlA",
        "colab_type": "code",
        "outputId": "18264f62-35ee-4a0d-9a94-0f47001bb302",
        "colab": {
          "base_uri": "https://localhost:8080/",
          "height": 35
        }
      },
      "source": [
        "#Remove cancelled orders\n",
        "retail_uk = retail_uk[retail_uk['Quantity'] > 0]\n",
        "retail_uk.shape"
      ],
      "execution_count": 0,
      "outputs": [
        {
          "output_type": "execute_result",
          "data": {
            "text/plain": [
              "(486286, 8)"
            ]
          },
          "metadata": {
            "tags": []
          },
          "execution_count": 9
        }
      ]
    },
    {
      "cell_type": "code",
      "metadata": {
        "id": "V4yzMGP9xQLY",
        "colab_type": "code",
        "outputId": "0a958919-dc4d-4d1c-cbe6-15b99cf2bdfe",
        "colab": {
          "base_uri": "https://localhost:8080/",
          "height": 35
        }
      },
      "source": [
        "#Remove rows where customerID are NA\n",
        "retail_uk.dropna(subset=['CustomerID'], how='all', inplace=True)\n",
        "retail_uk.shape"
      ],
      "execution_count": 0,
      "outputs": [
        {
          "output_type": "execute_result",
          "data": {
            "text/plain": [
              "(354345, 8)"
            ]
          },
          "metadata": {
            "tags": []
          },
          "execution_count": 10
        }
      ]
    },
    {
      "cell_type": "code",
      "metadata": {
        "id": "ihpmaSlPy7i2",
        "colab_type": "code",
        "outputId": "e6f3b218-bcdd-4118-da4a-db6b894b04fe",
        "colab": {
          "base_uri": "https://localhost:8080/",
          "height": 35
        }
      },
      "source": [
        "#Restrict the data to one full year because it's better to use a metric per Months or Years in RFM\n",
        "retail_uk = retail_uk[retail_uk['InvoiceDate'] >= '2010-12-09']\n",
        "retail_uk.shape"
      ],
      "execution_count": 0,
      "outputs": [
        {
          "output_type": "execute_result",
          "data": {
            "text/plain": [
              "(342478, 8)"
            ]
          },
          "metadata": {
            "tags": []
          },
          "execution_count": 11
        }
      ]
    },
    {
      "cell_type": "code",
      "metadata": {
        "id": "3TNhZt9h0Dpf",
        "colab_type": "code",
        "outputId": "0864ab6e-2c52-4362-f34b-02cbdf8a1925",
        "colab": {
          "base_uri": "https://localhost:8080/",
          "height": 108
        }
      },
      "source": [
        "print('Summary...')\n",
        "\n",
        "#Exploring the unique values of each attribute\n",
        "print('Number of transactions: ', retail_uk['InvoiceNo'].nunique())\n",
        "print('Number of products bought: ',retail_uk['StockCode'].nunique())\n",
        "print('Number of customers: ', retail_uk['CustomerID'].nunique() )\n",
        "print('Percentage of customers NA: ', round(retail_uk['CustomerID'].isnull().sum() * 100 / len(retail_df), 2), '%' )"
      ],
      "execution_count": 0,
      "outputs": [
        {
          "output_type": "stream",
          "text": [
            "Summary...\n",
            "Number of transactions:  16017\n",
            "Number of products bought:  3611\n",
            "Number of customers:  3863\n",
            "Percentage of customers NA:  0.0 %\n"
          ],
          "name": "stdout"
        }
      ]
    },
    {
      "cell_type": "code",
      "metadata": {
        "id": "C-tRo7Sg1y3l",
        "colab_type": "code",
        "outputId": "11ee1f8e-a3cc-41fc-b6f8-5c9183f0af29",
        "colab": {
          "base_uri": "https://localhost:8080/",
          "height": 197
        }
      },
      "source": [
        "retail_uk.tail()"
      ],
      "execution_count": 0,
      "outputs": [
        {
          "output_type": "execute_result",
          "data": {
            "text/html": [
              "<div>\n",
              "<style scoped>\n",
              "    .dataframe tbody tr th:only-of-type {\n",
              "        vertical-align: middle;\n",
              "    }\n",
              "\n",
              "    .dataframe tbody tr th {\n",
              "        vertical-align: top;\n",
              "    }\n",
              "\n",
              "    .dataframe thead th {\n",
              "        text-align: right;\n",
              "    }\n",
              "</style>\n",
              "<table border=\"1\" class=\"dataframe\">\n",
              "  <thead>\n",
              "    <tr style=\"text-align: right;\">\n",
              "      <th></th>\n",
              "      <th>InvoiceNo</th>\n",
              "      <th>StockCode</th>\n",
              "      <th>Description</th>\n",
              "      <th>Quantity</th>\n",
              "      <th>InvoiceDate</th>\n",
              "      <th>UnitPrice</th>\n",
              "      <th>CustomerID</th>\n",
              "      <th>Country</th>\n",
              "    </tr>\n",
              "  </thead>\n",
              "  <tbody>\n",
              "    <tr>\n",
              "      <th>541889</th>\n",
              "      <td>581585</td>\n",
              "      <td>22466</td>\n",
              "      <td>FAIRY TALE COTTAGE NIGHT LIGHT</td>\n",
              "      <td>12</td>\n",
              "      <td>2011-12-09 12:31:00</td>\n",
              "      <td>1.95</td>\n",
              "      <td>15804.0</td>\n",
              "      <td>United Kingdom</td>\n",
              "    </tr>\n",
              "    <tr>\n",
              "      <th>541890</th>\n",
              "      <td>581586</td>\n",
              "      <td>22061</td>\n",
              "      <td>LARGE CAKE STAND  HANGING STRAWBERY</td>\n",
              "      <td>8</td>\n",
              "      <td>2011-12-09 12:49:00</td>\n",
              "      <td>2.95</td>\n",
              "      <td>13113.0</td>\n",
              "      <td>United Kingdom</td>\n",
              "    </tr>\n",
              "    <tr>\n",
              "      <th>541891</th>\n",
              "      <td>581586</td>\n",
              "      <td>23275</td>\n",
              "      <td>SET OF 3 HANGING OWLS OLLIE BEAK</td>\n",
              "      <td>24</td>\n",
              "      <td>2011-12-09 12:49:00</td>\n",
              "      <td>1.25</td>\n",
              "      <td>13113.0</td>\n",
              "      <td>United Kingdom</td>\n",
              "    </tr>\n",
              "    <tr>\n",
              "      <th>541892</th>\n",
              "      <td>581586</td>\n",
              "      <td>21217</td>\n",
              "      <td>RED RETROSPOT ROUND CAKE TINS</td>\n",
              "      <td>24</td>\n",
              "      <td>2011-12-09 12:49:00</td>\n",
              "      <td>8.95</td>\n",
              "      <td>13113.0</td>\n",
              "      <td>United Kingdom</td>\n",
              "    </tr>\n",
              "    <tr>\n",
              "      <th>541893</th>\n",
              "      <td>581586</td>\n",
              "      <td>20685</td>\n",
              "      <td>DOORMAT RED RETROSPOT</td>\n",
              "      <td>10</td>\n",
              "      <td>2011-12-09 12:49:00</td>\n",
              "      <td>7.08</td>\n",
              "      <td>13113.0</td>\n",
              "      <td>United Kingdom</td>\n",
              "    </tr>\n",
              "  </tbody>\n",
              "</table>\n",
              "</div>"
            ],
            "text/plain": [
              "       InvoiceNo StockCode  ... CustomerID         Country\n",
              "541889    581585     22466  ...    15804.0  United Kingdom\n",
              "541890    581586     22061  ...    13113.0  United Kingdom\n",
              "541891    581586     23275  ...    13113.0  United Kingdom\n",
              "541892    581586     21217  ...    13113.0  United Kingdom\n",
              "541893    581586     20685  ...    13113.0  United Kingdom\n",
              "\n",
              "[5 rows x 8 columns]"
            ]
          },
          "metadata": {
            "tags": []
          },
          "execution_count": 13
        }
      ]
    },
    {
      "cell_type": "markdown",
      "metadata": {
        "id": "WlaS3dRw6ok4",
        "colab_type": "text"
      },
      "source": [
        "##__RFM Analysis__\n",
        "\n",
        "RFM divides customers into various categories or clusters based on three criteria and helps to personalize product offers and marketing campain.\n",
        "\n",
        "**RECENCY (R)**: Days since last purchase\n",
        "\n",
        "**FREQUENCY (F)**: Total number of purchases\n",
        "\n",
        "**MONETARY VALUE (M)**: Total money this customer spent."
      ]
    },
    {
      "cell_type": "markdown",
      "metadata": {
        "id": "h0PbrZFs7mry",
        "colab_type": "text"
      },
      "source": [
        "### __Recency__"
      ]
    },
    {
      "cell_type": "code",
      "metadata": {
        "id": "6FfTE40y2Mhb",
        "colab_type": "code",
        "outputId": "7d98fa81-9a8e-4a0c-964d-37eec406bc56",
        "colab": {
          "base_uri": "https://localhost:8080/",
          "height": 35
        }
      },
      "source": [
        "#Last date available in our dataset\n",
        "retail_uk['InvoiceDate'].max()"
      ],
      "execution_count": 0,
      "outputs": [
        {
          "output_type": "execute_result",
          "data": {
            "text/plain": [
              "Timestamp('2011-12-09 12:49:00')"
            ]
          },
          "metadata": {
            "tags": []
          },
          "execution_count": 14
        }
      ]
    },
    {
      "cell_type": "code",
      "metadata": {
        "id": "ELHyvSNS7sy-",
        "colab_type": "code",
        "outputId": "28baaff8-4979-4ae7-db7e-dd31a4e81af8",
        "colab": {
          "base_uri": "https://localhost:8080/",
          "height": 35
        }
      },
      "source": [
        "now = dt.date(2011, 12, 9)\n",
        "print(now)"
      ],
      "execution_count": 0,
      "outputs": [
        {
          "output_type": "stream",
          "text": [
            "2011-12-09\n"
          ],
          "name": "stdout"
        }
      ]
    },
    {
      "cell_type": "code",
      "metadata": {
        "id": "2cRw2p378Uwi",
        "colab_type": "code",
        "outputId": "bbc5f1ac-da7d-4be1-d798-516dbdd32d75",
        "colab": {
          "base_uri": "https://localhost:8080/",
          "height": 197
        }
      },
      "source": [
        "#Create a new column called date which contains the date of invoice only\n",
        "retail_uk['date'] = retail_uk['InvoiceDate'].dt.date\n",
        "retail_uk.head()"
      ],
      "execution_count": 0,
      "outputs": [
        {
          "output_type": "execute_result",
          "data": {
            "text/html": [
              "<div>\n",
              "<style scoped>\n",
              "    .dataframe tbody tr th:only-of-type {\n",
              "        vertical-align: middle;\n",
              "    }\n",
              "\n",
              "    .dataframe tbody tr th {\n",
              "        vertical-align: top;\n",
              "    }\n",
              "\n",
              "    .dataframe thead th {\n",
              "        text-align: right;\n",
              "    }\n",
              "</style>\n",
              "<table border=\"1\" class=\"dataframe\">\n",
              "  <thead>\n",
              "    <tr style=\"text-align: right;\">\n",
              "      <th></th>\n",
              "      <th>InvoiceNo</th>\n",
              "      <th>StockCode</th>\n",
              "      <th>Description</th>\n",
              "      <th>Quantity</th>\n",
              "      <th>InvoiceDate</th>\n",
              "      <th>UnitPrice</th>\n",
              "      <th>CustomerID</th>\n",
              "      <th>Country</th>\n",
              "      <th>date</th>\n",
              "    </tr>\n",
              "  </thead>\n",
              "  <tbody>\n",
              "    <tr>\n",
              "      <th>19632</th>\n",
              "      <td>537879</td>\n",
              "      <td>22114</td>\n",
              "      <td>HOT WATER BOTTLE TEA AND SYMPATHY</td>\n",
              "      <td>12</td>\n",
              "      <td>2010-12-09 08:34:00</td>\n",
              "      <td>3.95</td>\n",
              "      <td>14243.0</td>\n",
              "      <td>United Kingdom</td>\n",
              "      <td>2010-12-09</td>\n",
              "    </tr>\n",
              "    <tr>\n",
              "      <th>19633</th>\n",
              "      <td>537879</td>\n",
              "      <td>22835</td>\n",
              "      <td>HOT WATER BOTTLE I AM SO POORLY</td>\n",
              "      <td>8</td>\n",
              "      <td>2010-12-09 08:34:00</td>\n",
              "      <td>4.65</td>\n",
              "      <td>14243.0</td>\n",
              "      <td>United Kingdom</td>\n",
              "      <td>2010-12-09</td>\n",
              "    </tr>\n",
              "    <tr>\n",
              "      <th>19634</th>\n",
              "      <td>537879</td>\n",
              "      <td>85150</td>\n",
              "      <td>LADIES &amp; GENTLEMEN METAL SIGN</td>\n",
              "      <td>6</td>\n",
              "      <td>2010-12-09 08:34:00</td>\n",
              "      <td>2.55</td>\n",
              "      <td>14243.0</td>\n",
              "      <td>United Kingdom</td>\n",
              "      <td>2010-12-09</td>\n",
              "    </tr>\n",
              "    <tr>\n",
              "      <th>19635</th>\n",
              "      <td>537879</td>\n",
              "      <td>85048</td>\n",
              "      <td>15CM CHRISTMAS GLASS BALL 20 LIGHTS</td>\n",
              "      <td>4</td>\n",
              "      <td>2010-12-09 08:34:00</td>\n",
              "      <td>7.95</td>\n",
              "      <td>14243.0</td>\n",
              "      <td>United Kingdom</td>\n",
              "      <td>2010-12-09</td>\n",
              "    </tr>\n",
              "    <tr>\n",
              "      <th>19636</th>\n",
              "      <td>537879</td>\n",
              "      <td>21524</td>\n",
              "      <td>DOORMAT SPOTTY HOME SWEET HOME</td>\n",
              "      <td>2</td>\n",
              "      <td>2010-12-09 08:34:00</td>\n",
              "      <td>7.95</td>\n",
              "      <td>14243.0</td>\n",
              "      <td>United Kingdom</td>\n",
              "      <td>2010-12-09</td>\n",
              "    </tr>\n",
              "  </tbody>\n",
              "</table>\n",
              "</div>"
            ],
            "text/plain": [
              "      InvoiceNo StockCode  ...         Country        date\n",
              "19632    537879     22114  ...  United Kingdom  2010-12-09\n",
              "19633    537879     22835  ...  United Kingdom  2010-12-09\n",
              "19634    537879     85150  ...  United Kingdom  2010-12-09\n",
              "19635    537879     85048  ...  United Kingdom  2010-12-09\n",
              "19636    537879     21524  ...  United Kingdom  2010-12-09\n",
              "\n",
              "[5 rows x 9 columns]"
            ]
          },
          "metadata": {
            "tags": []
          },
          "execution_count": 16
        }
      ]
    },
    {
      "cell_type": "code",
      "metadata": {
        "id": "zD-KzKhc8sXF",
        "colab_type": "code",
        "outputId": "8e115583-334d-4632-f582-f9b0017856ab",
        "colab": {
          "base_uri": "https://localhost:8080/",
          "height": 197
        }
      },
      "source": [
        "#Group by customers and check last date of purshace\n",
        "recency_df = retail_uk.groupby(by='CustomerID', as_index=False)['date'].max()\n",
        "recency_df.columns = ['CustomerID', 'LastPurchaseDate']\n",
        "recency_df.head()"
      ],
      "execution_count": 0,
      "outputs": [
        {
          "output_type": "execute_result",
          "data": {
            "text/html": [
              "<div>\n",
              "<style scoped>\n",
              "    .dataframe tbody tr th:only-of-type {\n",
              "        vertical-align: middle;\n",
              "    }\n",
              "\n",
              "    .dataframe tbody tr th {\n",
              "        vertical-align: top;\n",
              "    }\n",
              "\n",
              "    .dataframe thead th {\n",
              "        text-align: right;\n",
              "    }\n",
              "</style>\n",
              "<table border=\"1\" class=\"dataframe\">\n",
              "  <thead>\n",
              "    <tr style=\"text-align: right;\">\n",
              "      <th></th>\n",
              "      <th>CustomerID</th>\n",
              "      <th>LastPurchaseDate</th>\n",
              "    </tr>\n",
              "  </thead>\n",
              "  <tbody>\n",
              "    <tr>\n",
              "      <th>0</th>\n",
              "      <td>12346.0</td>\n",
              "      <td>2011-01-18</td>\n",
              "    </tr>\n",
              "    <tr>\n",
              "      <th>1</th>\n",
              "      <td>12747.0</td>\n",
              "      <td>2011-12-07</td>\n",
              "    </tr>\n",
              "    <tr>\n",
              "      <th>2</th>\n",
              "      <td>12748.0</td>\n",
              "      <td>2011-12-09</td>\n",
              "    </tr>\n",
              "    <tr>\n",
              "      <th>3</th>\n",
              "      <td>12749.0</td>\n",
              "      <td>2011-12-06</td>\n",
              "    </tr>\n",
              "    <tr>\n",
              "      <th>4</th>\n",
              "      <td>12820.0</td>\n",
              "      <td>2011-12-06</td>\n",
              "    </tr>\n",
              "  </tbody>\n",
              "</table>\n",
              "</div>"
            ],
            "text/plain": [
              "   CustomerID LastPurchaseDate\n",
              "0     12346.0       2011-01-18\n",
              "1     12747.0       2011-12-07\n",
              "2     12748.0       2011-12-09\n",
              "3     12749.0       2011-12-06\n",
              "4     12820.0       2011-12-06"
            ]
          },
          "metadata": {
            "tags": []
          },
          "execution_count": 17
        }
      ]
    },
    {
      "cell_type": "code",
      "metadata": {
        "id": "IF3OVViP9KLD",
        "colab_type": "code",
        "outputId": "013bbc19-2a6a-4947-f98a-d016f5993dea",
        "colab": {
          "base_uri": "https://localhost:8080/",
          "height": 197
        }
      },
      "source": [
        "#Calculate recency\n",
        "recency_df['Recency'] = recency_df['LastPurchaseDate'].apply(lambda x: (now - x).days)\n",
        "recency_df.head()"
      ],
      "execution_count": 0,
      "outputs": [
        {
          "output_type": "execute_result",
          "data": {
            "text/html": [
              "<div>\n",
              "<style scoped>\n",
              "    .dataframe tbody tr th:only-of-type {\n",
              "        vertical-align: middle;\n",
              "    }\n",
              "\n",
              "    .dataframe tbody tr th {\n",
              "        vertical-align: top;\n",
              "    }\n",
              "\n",
              "    .dataframe thead th {\n",
              "        text-align: right;\n",
              "    }\n",
              "</style>\n",
              "<table border=\"1\" class=\"dataframe\">\n",
              "  <thead>\n",
              "    <tr style=\"text-align: right;\">\n",
              "      <th></th>\n",
              "      <th>CustomerID</th>\n",
              "      <th>LastPurchaseDate</th>\n",
              "      <th>Recency</th>\n",
              "    </tr>\n",
              "  </thead>\n",
              "  <tbody>\n",
              "    <tr>\n",
              "      <th>0</th>\n",
              "      <td>12346.0</td>\n",
              "      <td>2011-01-18</td>\n",
              "      <td>325</td>\n",
              "    </tr>\n",
              "    <tr>\n",
              "      <th>1</th>\n",
              "      <td>12747.0</td>\n",
              "      <td>2011-12-07</td>\n",
              "      <td>2</td>\n",
              "    </tr>\n",
              "    <tr>\n",
              "      <th>2</th>\n",
              "      <td>12748.0</td>\n",
              "      <td>2011-12-09</td>\n",
              "      <td>0</td>\n",
              "    </tr>\n",
              "    <tr>\n",
              "      <th>3</th>\n",
              "      <td>12749.0</td>\n",
              "      <td>2011-12-06</td>\n",
              "      <td>3</td>\n",
              "    </tr>\n",
              "    <tr>\n",
              "      <th>4</th>\n",
              "      <td>12820.0</td>\n",
              "      <td>2011-12-06</td>\n",
              "      <td>3</td>\n",
              "    </tr>\n",
              "  </tbody>\n",
              "</table>\n",
              "</div>"
            ],
            "text/plain": [
              "   CustomerID LastPurchaseDate  Recency\n",
              "0     12346.0       2011-01-18      325\n",
              "1     12747.0       2011-12-07        2\n",
              "2     12748.0       2011-12-09        0\n",
              "3     12749.0       2011-12-06        3\n",
              "4     12820.0       2011-12-06        3"
            ]
          },
          "metadata": {
            "tags": []
          },
          "execution_count": 18
        }
      ]
    },
    {
      "cell_type": "code",
      "metadata": {
        "id": "1lKNg2JI91DS",
        "colab_type": "code",
        "outputId": "18721a55-2427-4fe4-9e16-0f37b412a536",
        "colab": {
          "base_uri": "https://localhost:8080/",
          "height": 197
        }
      },
      "source": [
        "#Drop LastPurchaseDate as we don't need it anymore\n",
        "recency_df.drop('LastPurchaseDate', axis=1, inplace=True)\n",
        "recency_df.head()"
      ],
      "execution_count": 0,
      "outputs": [
        {
          "output_type": "execute_result",
          "data": {
            "text/html": [
              "<div>\n",
              "<style scoped>\n",
              "    .dataframe tbody tr th:only-of-type {\n",
              "        vertical-align: middle;\n",
              "    }\n",
              "\n",
              "    .dataframe tbody tr th {\n",
              "        vertical-align: top;\n",
              "    }\n",
              "\n",
              "    .dataframe thead th {\n",
              "        text-align: right;\n",
              "    }\n",
              "</style>\n",
              "<table border=\"1\" class=\"dataframe\">\n",
              "  <thead>\n",
              "    <tr style=\"text-align: right;\">\n",
              "      <th></th>\n",
              "      <th>CustomerID</th>\n",
              "      <th>Recency</th>\n",
              "    </tr>\n",
              "  </thead>\n",
              "  <tbody>\n",
              "    <tr>\n",
              "      <th>0</th>\n",
              "      <td>12346.0</td>\n",
              "      <td>325</td>\n",
              "    </tr>\n",
              "    <tr>\n",
              "      <th>1</th>\n",
              "      <td>12747.0</td>\n",
              "      <td>2</td>\n",
              "    </tr>\n",
              "    <tr>\n",
              "      <th>2</th>\n",
              "      <td>12748.0</td>\n",
              "      <td>0</td>\n",
              "    </tr>\n",
              "    <tr>\n",
              "      <th>3</th>\n",
              "      <td>12749.0</td>\n",
              "      <td>3</td>\n",
              "    </tr>\n",
              "    <tr>\n",
              "      <th>4</th>\n",
              "      <td>12820.0</td>\n",
              "      <td>3</td>\n",
              "    </tr>\n",
              "  </tbody>\n",
              "</table>\n",
              "</div>"
            ],
            "text/plain": [
              "   CustomerID  Recency\n",
              "0     12346.0      325\n",
              "1     12747.0        2\n",
              "2     12748.0        0\n",
              "3     12749.0        3\n",
              "4     12820.0        3"
            ]
          },
          "metadata": {
            "tags": []
          },
          "execution_count": 19
        }
      ]
    },
    {
      "cell_type": "code",
      "metadata": {
        "id": "gUH2nfjTD97O",
        "colab_type": "code",
        "outputId": "de30e846-85eb-41a4-f1d3-6bd9fe66047a",
        "colab": {
          "base_uri": "https://localhost:8080/",
          "height": 406
        }
      },
      "source": [
        "recency_df.sort_values(by=['Recency'], ascending=False)"
      ],
      "execution_count": 0,
      "outputs": [
        {
          "output_type": "execute_result",
          "data": {
            "text/html": [
              "<div>\n",
              "<style scoped>\n",
              "    .dataframe tbody tr th:only-of-type {\n",
              "        vertical-align: middle;\n",
              "    }\n",
              "\n",
              "    .dataframe tbody tr th {\n",
              "        vertical-align: top;\n",
              "    }\n",
              "\n",
              "    .dataframe thead th {\n",
              "        text-align: right;\n",
              "    }\n",
              "</style>\n",
              "<table border=\"1\" class=\"dataframe\">\n",
              "  <thead>\n",
              "    <tr style=\"text-align: right;\">\n",
              "      <th></th>\n",
              "      <th>CustomerID</th>\n",
              "      <th>Recency</th>\n",
              "    </tr>\n",
              "  </thead>\n",
              "  <tbody>\n",
              "    <tr>\n",
              "      <th>2206</th>\n",
              "      <td>15945.0</td>\n",
              "      <td>365</td>\n",
              "    </tr>\n",
              "    <tr>\n",
              "      <th>1074</th>\n",
              "      <td>14355.0</td>\n",
              "      <td>365</td>\n",
              "    </tr>\n",
              "    <tr>\n",
              "      <th>2290</th>\n",
              "      <td>16065.0</td>\n",
              "      <td>365</td>\n",
              "    </tr>\n",
              "    <tr>\n",
              "      <th>3647</th>\n",
              "      <td>17978.0</td>\n",
              "      <td>365</td>\n",
              "    </tr>\n",
              "    <tr>\n",
              "      <th>3277</th>\n",
              "      <td>17456.0</td>\n",
              "      <td>365</td>\n",
              "    </tr>\n",
              "    <tr>\n",
              "      <th>...</th>\n",
              "      <td>...</td>\n",
              "      <td>...</td>\n",
              "    </tr>\n",
              "    <tr>\n",
              "      <th>1135</th>\n",
              "      <td>14446.0</td>\n",
              "      <td>0</td>\n",
              "    </tr>\n",
              "    <tr>\n",
              "      <th>3729</th>\n",
              "      <td>18102.0</td>\n",
              "      <td>0</td>\n",
              "    </tr>\n",
              "    <tr>\n",
              "      <th>862</th>\n",
              "      <td>14051.0</td>\n",
              "      <td>0</td>\n",
              "    </tr>\n",
              "    <tr>\n",
              "      <th>2187</th>\n",
              "      <td>15910.0</td>\n",
              "      <td>0</td>\n",
              "    </tr>\n",
              "    <tr>\n",
              "      <th>2961</th>\n",
              "      <td>17001.0</td>\n",
              "      <td>0</td>\n",
              "    </tr>\n",
              "  </tbody>\n",
              "</table>\n",
              "<p>3863 rows × 2 columns</p>\n",
              "</div>"
            ],
            "text/plain": [
              "      CustomerID  Recency\n",
              "2206     15945.0      365\n",
              "1074     14355.0      365\n",
              "2290     16065.0      365\n",
              "3647     17978.0      365\n",
              "3277     17456.0      365\n",
              "...          ...      ...\n",
              "1135     14446.0        0\n",
              "3729     18102.0        0\n",
              "862      14051.0        0\n",
              "2187     15910.0        0\n",
              "2961     17001.0        0\n",
              "\n",
              "[3863 rows x 2 columns]"
            ]
          },
          "metadata": {
            "tags": []
          },
          "execution_count": 20
        }
      ]
    },
    {
      "cell_type": "markdown",
      "metadata": {
        "id": "XzUqqS_dA0QN",
        "colab_type": "text"
      },
      "source": [
        "###__Frequency__\n",
        "\n",
        "It shows how many times a customer purchased from the company. To do that we need to check how many invoices are registered by the same customer."
      ]
    },
    {
      "cell_type": "code",
      "metadata": {
        "id": "UIJOe2uQ_xON",
        "colab_type": "code",
        "outputId": "3350d2aa-9791-49dc-f1b5-1253e780e9b6",
        "colab": {
          "base_uri": "https://localhost:8080/",
          "height": 197
        }
      },
      "source": [
        "#Drop duplicates\n",
        "retail_uk_copy = retail_uk\n",
        "retail_uk_copy.drop_duplicates(subset=['InvoiceNo', 'CustomerID'], keep='first', inplace=True)\n",
        "\n",
        "#Calculate frequency of purchases\n",
        "frequency_df = retail_uk_copy.groupby(by=['CustomerID'], as_index=False)['InvoiceNo'].count()\n",
        "frequency_df.columns = ['CustomerID', 'Frequency']\n",
        "frequency_df.head()"
      ],
      "execution_count": 0,
      "outputs": [
        {
          "output_type": "execute_result",
          "data": {
            "text/html": [
              "<div>\n",
              "<style scoped>\n",
              "    .dataframe tbody tr th:only-of-type {\n",
              "        vertical-align: middle;\n",
              "    }\n",
              "\n",
              "    .dataframe tbody tr th {\n",
              "        vertical-align: top;\n",
              "    }\n",
              "\n",
              "    .dataframe thead th {\n",
              "        text-align: right;\n",
              "    }\n",
              "</style>\n",
              "<table border=\"1\" class=\"dataframe\">\n",
              "  <thead>\n",
              "    <tr style=\"text-align: right;\">\n",
              "      <th></th>\n",
              "      <th>CustomerID</th>\n",
              "      <th>Frequency</th>\n",
              "    </tr>\n",
              "  </thead>\n",
              "  <tbody>\n",
              "    <tr>\n",
              "      <th>0</th>\n",
              "      <td>12346.0</td>\n",
              "      <td>1</td>\n",
              "    </tr>\n",
              "    <tr>\n",
              "      <th>1</th>\n",
              "      <td>12747.0</td>\n",
              "      <td>10</td>\n",
              "    </tr>\n",
              "    <tr>\n",
              "      <th>2</th>\n",
              "      <td>12748.0</td>\n",
              "      <td>196</td>\n",
              "    </tr>\n",
              "    <tr>\n",
              "      <th>3</th>\n",
              "      <td>12749.0</td>\n",
              "      <td>5</td>\n",
              "    </tr>\n",
              "    <tr>\n",
              "      <th>4</th>\n",
              "      <td>12820.0</td>\n",
              "      <td>4</td>\n",
              "    </tr>\n",
              "  </tbody>\n",
              "</table>\n",
              "</div>"
            ],
            "text/plain": [
              "   CustomerID  Frequency\n",
              "0     12346.0          1\n",
              "1     12747.0         10\n",
              "2     12748.0        196\n",
              "3     12749.0          5\n",
              "4     12820.0          4"
            ]
          },
          "metadata": {
            "tags": []
          },
          "execution_count": 21
        }
      ]
    },
    {
      "cell_type": "code",
      "metadata": {
        "id": "Lmut0Q5HB7u7",
        "colab_type": "code",
        "outputId": "6388f2d6-e38e-4f18-a524-eb76c9f6bcb5",
        "colab": {
          "base_uri": "https://localhost:8080/",
          "height": 406
        }
      },
      "source": [
        "frequency_df.sort_values(by=['Frequency'], ascending=False)"
      ],
      "execution_count": 0,
      "outputs": [
        {
          "output_type": "execute_result",
          "data": {
            "text/html": [
              "<div>\n",
              "<style scoped>\n",
              "    .dataframe tbody tr th:only-of-type {\n",
              "        vertical-align: middle;\n",
              "    }\n",
              "\n",
              "    .dataframe tbody tr th {\n",
              "        vertical-align: top;\n",
              "    }\n",
              "\n",
              "    .dataframe thead th {\n",
              "        text-align: right;\n",
              "    }\n",
              "</style>\n",
              "<table border=\"1\" class=\"dataframe\">\n",
              "  <thead>\n",
              "    <tr style=\"text-align: right;\">\n",
              "      <th></th>\n",
              "      <th>CustomerID</th>\n",
              "      <th>Frequency</th>\n",
              "    </tr>\n",
              "  </thead>\n",
              "  <tbody>\n",
              "    <tr>\n",
              "      <th>2</th>\n",
              "      <td>12748.0</td>\n",
              "      <td>196</td>\n",
              "    </tr>\n",
              "    <tr>\n",
              "      <th>3549</th>\n",
              "      <td>17841.0</td>\n",
              "      <td>121</td>\n",
              "    </tr>\n",
              "    <tr>\n",
              "      <th>188</th>\n",
              "      <td>13089.0</td>\n",
              "      <td>94</td>\n",
              "    </tr>\n",
              "    <tr>\n",
              "      <th>1255</th>\n",
              "      <td>14606.0</td>\n",
              "      <td>90</td>\n",
              "    </tr>\n",
              "    <tr>\n",
              "      <th>1752</th>\n",
              "      <td>15311.0</td>\n",
              "      <td>88</td>\n",
              "    </tr>\n",
              "    <tr>\n",
              "      <th>...</th>\n",
              "      <td>...</td>\n",
              "      <td>...</td>\n",
              "    </tr>\n",
              "    <tr>\n",
              "      <th>2538</th>\n",
              "      <td>16406.0</td>\n",
              "      <td>1</td>\n",
              "    </tr>\n",
              "    <tr>\n",
              "      <th>2536</th>\n",
              "      <td>16404.0</td>\n",
              "      <td>1</td>\n",
              "    </tr>\n",
              "    <tr>\n",
              "      <th>2535</th>\n",
              "      <td>16403.0</td>\n",
              "      <td>1</td>\n",
              "    </tr>\n",
              "    <tr>\n",
              "      <th>2534</th>\n",
              "      <td>16402.0</td>\n",
              "      <td>1</td>\n",
              "    </tr>\n",
              "    <tr>\n",
              "      <th>0</th>\n",
              "      <td>12346.0</td>\n",
              "      <td>1</td>\n",
              "    </tr>\n",
              "  </tbody>\n",
              "</table>\n",
              "<p>3863 rows × 2 columns</p>\n",
              "</div>"
            ],
            "text/plain": [
              "      CustomerID  Frequency\n",
              "2        12748.0        196\n",
              "3549     17841.0        121\n",
              "188      13089.0         94\n",
              "1255     14606.0         90\n",
              "1752     15311.0         88\n",
              "...          ...        ...\n",
              "2538     16406.0          1\n",
              "2536     16404.0          1\n",
              "2535     16403.0          1\n",
              "2534     16402.0          1\n",
              "0        12346.0          1\n",
              "\n",
              "[3863 rows x 2 columns]"
            ]
          },
          "metadata": {
            "tags": []
          },
          "execution_count": 22
        }
      ]
    },
    {
      "cell_type": "markdown",
      "metadata": {
        "id": "LcYKVQGpElJu",
        "colab_type": "text"
      },
      "source": [
        "### __Monetary__\n",
        "\n",
        "How much money did the customer spent over time?"
      ]
    },
    {
      "cell_type": "code",
      "metadata": {
        "id": "-izwDsCfET_E",
        "colab_type": "code",
        "colab": {}
      },
      "source": [
        "#Create column total cost\n",
        "retail_uk['TotalCost'] = retail_uk['Quantity'] * retail_uk['UnitPrice']"
      ],
      "execution_count": 0,
      "outputs": []
    },
    {
      "cell_type": "code",
      "metadata": {
        "id": "XUtkUAyRE6I7",
        "colab_type": "code",
        "outputId": "c5fc2086-6b27-4ef1-8e26-de8601c6198b",
        "colab": {
          "base_uri": "https://localhost:8080/",
          "height": 197
        }
      },
      "source": [
        "monetary_df = retail_uk.groupby(by='CustomerID', as_index=False).agg({'TotalCost': 'sum'})\n",
        "monetary_df.columns = ['CustomerID','Monetary']\n",
        "monetary_df.head()"
      ],
      "execution_count": 0,
      "outputs": [
        {
          "output_type": "execute_result",
          "data": {
            "text/html": [
              "<div>\n",
              "<style scoped>\n",
              "    .dataframe tbody tr th:only-of-type {\n",
              "        vertical-align: middle;\n",
              "    }\n",
              "\n",
              "    .dataframe tbody tr th {\n",
              "        vertical-align: top;\n",
              "    }\n",
              "\n",
              "    .dataframe thead th {\n",
              "        text-align: right;\n",
              "    }\n",
              "</style>\n",
              "<table border=\"1\" class=\"dataframe\">\n",
              "  <thead>\n",
              "    <tr style=\"text-align: right;\">\n",
              "      <th></th>\n",
              "      <th>CustomerID</th>\n",
              "      <th>Monetary</th>\n",
              "    </tr>\n",
              "  </thead>\n",
              "  <tbody>\n",
              "    <tr>\n",
              "      <th>0</th>\n",
              "      <td>12346.0</td>\n",
              "      <td>77183.60</td>\n",
              "    </tr>\n",
              "    <tr>\n",
              "      <th>1</th>\n",
              "      <td>12747.0</td>\n",
              "      <td>658.89</td>\n",
              "    </tr>\n",
              "    <tr>\n",
              "      <th>2</th>\n",
              "      <td>12748.0</td>\n",
              "      <td>3739.23</td>\n",
              "    </tr>\n",
              "    <tr>\n",
              "      <th>3</th>\n",
              "      <td>12749.0</td>\n",
              "      <td>98.35</td>\n",
              "    </tr>\n",
              "    <tr>\n",
              "      <th>4</th>\n",
              "      <td>12820.0</td>\n",
              "      <td>58.20</td>\n",
              "    </tr>\n",
              "  </tbody>\n",
              "</table>\n",
              "</div>"
            ],
            "text/plain": [
              "   CustomerID  Monetary\n",
              "0     12346.0  77183.60\n",
              "1     12747.0    658.89\n",
              "2     12748.0   3739.23\n",
              "3     12749.0     98.35\n",
              "4     12820.0     58.20"
            ]
          },
          "metadata": {
            "tags": []
          },
          "execution_count": 24
        }
      ]
    },
    {
      "cell_type": "code",
      "metadata": {
        "id": "qpRZmlv-Ffeu",
        "colab_type": "code",
        "outputId": "db607412-6da3-4222-cbf9-fdab2ea23bd2",
        "colab": {
          "base_uri": "https://localhost:8080/",
          "height": 406
        }
      },
      "source": [
        "monetary_df.sort_values(by='Monetary', ascending=False)"
      ],
      "execution_count": 0,
      "outputs": [
        {
          "output_type": "execute_result",
          "data": {
            "text/html": [
              "<div>\n",
              "<style scoped>\n",
              "    .dataframe tbody tr th:only-of-type {\n",
              "        vertical-align: middle;\n",
              "    }\n",
              "\n",
              "    .dataframe tbody tr th {\n",
              "        vertical-align: top;\n",
              "    }\n",
              "\n",
              "    .dataframe thead th {\n",
              "        text-align: right;\n",
              "    }\n",
              "</style>\n",
              "<table border=\"1\" class=\"dataframe\">\n",
              "  <thead>\n",
              "    <tr style=\"text-align: right;\">\n",
              "      <th></th>\n",
              "      <th>CustomerID</th>\n",
              "      <th>Monetary</th>\n",
              "    </tr>\n",
              "  </thead>\n",
              "  <tbody>\n",
              "    <tr>\n",
              "      <th>2567</th>\n",
              "      <td>16446.0</td>\n",
              "      <td>168471.25</td>\n",
              "    </tr>\n",
              "    <tr>\n",
              "      <th>0</th>\n",
              "      <td>12346.0</td>\n",
              "      <td>77183.60</td>\n",
              "    </tr>\n",
              "    <tr>\n",
              "      <th>1591</th>\n",
              "      <td>15098.0</td>\n",
              "      <td>39916.50</td>\n",
              "    </tr>\n",
              "    <tr>\n",
              "      <th>3729</th>\n",
              "      <td>18102.0</td>\n",
              "      <td>39646.45</td>\n",
              "    </tr>\n",
              "    <tr>\n",
              "      <th>3626</th>\n",
              "      <td>17949.0</td>\n",
              "      <td>28685.69</td>\n",
              "    </tr>\n",
              "    <tr>\n",
              "      <th>...</th>\n",
              "      <td>...</td>\n",
              "      <td>...</td>\n",
              "    </tr>\n",
              "    <tr>\n",
              "      <th>1885</th>\n",
              "      <td>15503.0</td>\n",
              "      <td>0.42</td>\n",
              "    </tr>\n",
              "    <tr>\n",
              "      <th>1993</th>\n",
              "      <td>15645.0</td>\n",
              "      <td>0.42</td>\n",
              "    </tr>\n",
              "    <tr>\n",
              "      <th>322</th>\n",
              "      <td>13271.0</td>\n",
              "      <td>0.39</td>\n",
              "    </tr>\n",
              "    <tr>\n",
              "      <th>3602</th>\n",
              "      <td>17914.0</td>\n",
              "      <td>0.39</td>\n",
              "    </tr>\n",
              "    <tr>\n",
              "      <th>310</th>\n",
              "      <td>13256.0</td>\n",
              "      <td>0.00</td>\n",
              "    </tr>\n",
              "  </tbody>\n",
              "</table>\n",
              "<p>3863 rows × 2 columns</p>\n",
              "</div>"
            ],
            "text/plain": [
              "      CustomerID   Monetary\n",
              "2567     16446.0  168471.25\n",
              "0        12346.0   77183.60\n",
              "1591     15098.0   39916.50\n",
              "3729     18102.0   39646.45\n",
              "3626     17949.0   28685.69\n",
              "...          ...        ...\n",
              "1885     15503.0       0.42\n",
              "1993     15645.0       0.42\n",
              "322      13271.0       0.39\n",
              "3602     17914.0       0.39\n",
              "310      13256.0       0.00\n",
              "\n",
              "[3863 rows x 2 columns]"
            ]
          },
          "metadata": {
            "tags": []
          },
          "execution_count": 25
        }
      ]
    },
    {
      "cell_type": "markdown",
      "metadata": {
        "id": "gQO5nmwGF_sH",
        "colab_type": "text"
      },
      "source": [
        "###__Create RFM Table__\n"
      ]
    },
    {
      "cell_type": "code",
      "metadata": {
        "id": "DKPPUTrFF2ic",
        "colab_type": "code",
        "outputId": "27234b10-3626-4b43-e97f-30c3df15ef2d",
        "colab": {
          "base_uri": "https://localhost:8080/",
          "height": 197
        }
      },
      "source": [
        "#Merge recency dataframe with frequency dataframe\n",
        "temp_df = recency_df.merge(frequency_df, on='CustomerID')\n",
        "#Merge with monetary dataframe to get a table with the 3 columns\n",
        "rfm_df = temp_df.merge(monetary_df, on='CustomerID')\n",
        "rfm_df.head()"
      ],
      "execution_count": 0,
      "outputs": [
        {
          "output_type": "execute_result",
          "data": {
            "text/html": [
              "<div>\n",
              "<style scoped>\n",
              "    .dataframe tbody tr th:only-of-type {\n",
              "        vertical-align: middle;\n",
              "    }\n",
              "\n",
              "    .dataframe tbody tr th {\n",
              "        vertical-align: top;\n",
              "    }\n",
              "\n",
              "    .dataframe thead th {\n",
              "        text-align: right;\n",
              "    }\n",
              "</style>\n",
              "<table border=\"1\" class=\"dataframe\">\n",
              "  <thead>\n",
              "    <tr style=\"text-align: right;\">\n",
              "      <th></th>\n",
              "      <th>CustomerID</th>\n",
              "      <th>Recency</th>\n",
              "      <th>Frequency</th>\n",
              "      <th>Monetary</th>\n",
              "    </tr>\n",
              "  </thead>\n",
              "  <tbody>\n",
              "    <tr>\n",
              "      <th>0</th>\n",
              "      <td>12346.0</td>\n",
              "      <td>325</td>\n",
              "      <td>1</td>\n",
              "      <td>77183.60</td>\n",
              "    </tr>\n",
              "    <tr>\n",
              "      <th>1</th>\n",
              "      <td>12747.0</td>\n",
              "      <td>2</td>\n",
              "      <td>10</td>\n",
              "      <td>658.89</td>\n",
              "    </tr>\n",
              "    <tr>\n",
              "      <th>2</th>\n",
              "      <td>12748.0</td>\n",
              "      <td>0</td>\n",
              "      <td>196</td>\n",
              "      <td>3739.23</td>\n",
              "    </tr>\n",
              "    <tr>\n",
              "      <th>3</th>\n",
              "      <td>12749.0</td>\n",
              "      <td>3</td>\n",
              "      <td>5</td>\n",
              "      <td>98.35</td>\n",
              "    </tr>\n",
              "    <tr>\n",
              "      <th>4</th>\n",
              "      <td>12820.0</td>\n",
              "      <td>3</td>\n",
              "      <td>4</td>\n",
              "      <td>58.20</td>\n",
              "    </tr>\n",
              "  </tbody>\n",
              "</table>\n",
              "</div>"
            ],
            "text/plain": [
              "   CustomerID  Recency  Frequency  Monetary\n",
              "0     12346.0      325          1  77183.60\n",
              "1     12747.0        2         10    658.89\n",
              "2     12748.0        0        196   3739.23\n",
              "3     12749.0        3          5     98.35\n",
              "4     12820.0        3          4     58.20"
            ]
          },
          "metadata": {
            "tags": []
          },
          "execution_count": 26
        }
      ]
    },
    {
      "cell_type": "code",
      "metadata": {
        "id": "8hbuBcBHGZQX",
        "colab_type": "code",
        "outputId": "0c1eb1eb-79cf-4e1b-8e83-e8e1e3f3d2e6",
        "colab": {
          "base_uri": "https://localhost:8080/",
          "height": 227
        }
      },
      "source": [
        "#Use CustomerID as index\n",
        "rfm_df.set_index('CustomerID', inplace=True)\n",
        "rfm_df.head()"
      ],
      "execution_count": 0,
      "outputs": [
        {
          "output_type": "execute_result",
          "data": {
            "text/html": [
              "<div>\n",
              "<style scoped>\n",
              "    .dataframe tbody tr th:only-of-type {\n",
              "        vertical-align: middle;\n",
              "    }\n",
              "\n",
              "    .dataframe tbody tr th {\n",
              "        vertical-align: top;\n",
              "    }\n",
              "\n",
              "    .dataframe thead th {\n",
              "        text-align: right;\n",
              "    }\n",
              "</style>\n",
              "<table border=\"1\" class=\"dataframe\">\n",
              "  <thead>\n",
              "    <tr style=\"text-align: right;\">\n",
              "      <th></th>\n",
              "      <th>Recency</th>\n",
              "      <th>Frequency</th>\n",
              "      <th>Monetary</th>\n",
              "    </tr>\n",
              "    <tr>\n",
              "      <th>CustomerID</th>\n",
              "      <th></th>\n",
              "      <th></th>\n",
              "      <th></th>\n",
              "    </tr>\n",
              "  </thead>\n",
              "  <tbody>\n",
              "    <tr>\n",
              "      <th>12346.0</th>\n",
              "      <td>325</td>\n",
              "      <td>1</td>\n",
              "      <td>77183.60</td>\n",
              "    </tr>\n",
              "    <tr>\n",
              "      <th>12747.0</th>\n",
              "      <td>2</td>\n",
              "      <td>10</td>\n",
              "      <td>658.89</td>\n",
              "    </tr>\n",
              "    <tr>\n",
              "      <th>12748.0</th>\n",
              "      <td>0</td>\n",
              "      <td>196</td>\n",
              "      <td>3739.23</td>\n",
              "    </tr>\n",
              "    <tr>\n",
              "      <th>12749.0</th>\n",
              "      <td>3</td>\n",
              "      <td>5</td>\n",
              "      <td>98.35</td>\n",
              "    </tr>\n",
              "    <tr>\n",
              "      <th>12820.0</th>\n",
              "      <td>3</td>\n",
              "      <td>4</td>\n",
              "      <td>58.20</td>\n",
              "    </tr>\n",
              "  </tbody>\n",
              "</table>\n",
              "</div>"
            ],
            "text/plain": [
              "            Recency  Frequency  Monetary\n",
              "CustomerID                              \n",
              "12346.0         325          1  77183.60\n",
              "12747.0           2         10    658.89\n",
              "12748.0           0        196   3739.23\n",
              "12749.0           3          5     98.35\n",
              "12820.0           3          4     58.20"
            ]
          },
          "metadata": {
            "tags": []
          },
          "execution_count": 27
        }
      ]
    },
    {
      "cell_type": "markdown",
      "metadata": {
        "id": "HgigEpOAHirW",
        "colab_type": "text"
      },
      "source": [
        "### __RFM Table Correctness verification__"
      ]
    },
    {
      "cell_type": "code",
      "metadata": {
        "id": "fxXbodL0HVTd",
        "colab_type": "code",
        "outputId": "46a4624a-101d-4930-a927-1f3323b8b180",
        "colab": {
          "base_uri": "https://localhost:8080/",
          "height": 78
        }
      },
      "source": [
        "retail_uk[retail_uk['CustomerID']==12346.0]"
      ],
      "execution_count": 0,
      "outputs": [
        {
          "output_type": "execute_result",
          "data": {
            "text/html": [
              "<div>\n",
              "<style scoped>\n",
              "    .dataframe tbody tr th:only-of-type {\n",
              "        vertical-align: middle;\n",
              "    }\n",
              "\n",
              "    .dataframe tbody tr th {\n",
              "        vertical-align: top;\n",
              "    }\n",
              "\n",
              "    .dataframe thead th {\n",
              "        text-align: right;\n",
              "    }\n",
              "</style>\n",
              "<table border=\"1\" class=\"dataframe\">\n",
              "  <thead>\n",
              "    <tr style=\"text-align: right;\">\n",
              "      <th></th>\n",
              "      <th>InvoiceNo</th>\n",
              "      <th>StockCode</th>\n",
              "      <th>Description</th>\n",
              "      <th>Quantity</th>\n",
              "      <th>InvoiceDate</th>\n",
              "      <th>UnitPrice</th>\n",
              "      <th>CustomerID</th>\n",
              "      <th>Country</th>\n",
              "      <th>date</th>\n",
              "      <th>TotalCost</th>\n",
              "    </tr>\n",
              "  </thead>\n",
              "  <tbody>\n",
              "    <tr>\n",
              "      <th>61619</th>\n",
              "      <td>541431</td>\n",
              "      <td>23166</td>\n",
              "      <td>MEDIUM CERAMIC TOP STORAGE JAR</td>\n",
              "      <td>74215</td>\n",
              "      <td>2011-01-18 10:01:00</td>\n",
              "      <td>1.04</td>\n",
              "      <td>12346.0</td>\n",
              "      <td>United Kingdom</td>\n",
              "      <td>2011-01-18</td>\n",
              "      <td>77183.6</td>\n",
              "    </tr>\n",
              "  </tbody>\n",
              "</table>\n",
              "</div>"
            ],
            "text/plain": [
              "      InvoiceNo StockCode  ...        date  TotalCost\n",
              "61619    541431     23166  ...  2011-01-18    77183.6\n",
              "\n",
              "[1 rows x 10 columns]"
            ]
          },
          "metadata": {
            "tags": []
          },
          "execution_count": 28
        }
      ]
    },
    {
      "cell_type": "code",
      "metadata": {
        "id": "WqegGmmgHnvs",
        "colab_type": "code",
        "outputId": "bc658d8b-64b7-427f-d115-4dfa4937fd10",
        "colab": {
          "base_uri": "https://localhost:8080/",
          "height": 35
        }
      },
      "source": [
        "#Check correctness of Recency\n",
        "(now - dt.date(2011, 1, 18)).days == 325"
      ],
      "execution_count": 0,
      "outputs": [
        {
          "output_type": "execute_result",
          "data": {
            "text/plain": [
              "True"
            ]
          },
          "metadata": {
            "tags": []
          },
          "execution_count": 29
        }
      ]
    },
    {
      "cell_type": "markdown",
      "metadata": {
        "id": "J11xvNSWIHfW",
        "colab_type": "text"
      },
      "source": [
        "###__Customer segments with RFM Model__\n",
        "\n",
        "Application of __Pareto Principle__ to our RFM variables.\n",
        "\n",
        "Pareto’s rule says that **80% of the results come from 20% of the causes.**\n",
        "\n",
        "Thus **20% customers contribute to 80% of company's total revenue**. Our goal here in this section is to verify that."
      ]
    },
    {
      "cell_type": "code",
      "metadata": {
        "id": "Gq_8Df9aH-JU",
        "colab_type": "code",
        "outputId": "ac89085e-9c6e-4c8c-9db5-aefb08413f58",
        "colab": {
          "base_uri": "https://localhost:8080/",
          "height": 35
        }
      },
      "source": [
        "#Get the 80% of the revenue\n",
        "pareto_threshold = rfm_df['Monetary'].sum() * 0.8\n",
        "print('The 80% of total revenue is: ', round(pareto_threshold, 2))"
      ],
      "execution_count": 0,
      "outputs": [
        {
          "output_type": "stream",
          "text": [
            "The 80% of total revenue is:  890679.54\n"
          ],
          "name": "stdout"
        }
      ]
    },
    {
      "cell_type": "code",
      "metadata": {
        "id": "bFOE_sJxI7Hd",
        "colab_type": "code",
        "outputId": "817b0b39-c668-4398-aa6f-e58a9a84da61",
        "colab": {
          "base_uri": "https://localhost:8080/",
          "height": 227
        }
      },
      "source": [
        "customers_rank = rfm_df\n",
        "#Create a new column that is the rank of the value of coverage in ascending order\n",
        "customers_rank['Rank'] = customers_rank['Monetary'].rank(ascending=False)\n",
        "customers_rank.head()"
      ],
      "execution_count": 0,
      "outputs": [
        {
          "output_type": "execute_result",
          "data": {
            "text/html": [
              "<div>\n",
              "<style scoped>\n",
              "    .dataframe tbody tr th:only-of-type {\n",
              "        vertical-align: middle;\n",
              "    }\n",
              "\n",
              "    .dataframe tbody tr th {\n",
              "        vertical-align: top;\n",
              "    }\n",
              "\n",
              "    .dataframe thead th {\n",
              "        text-align: right;\n",
              "    }\n",
              "</style>\n",
              "<table border=\"1\" class=\"dataframe\">\n",
              "  <thead>\n",
              "    <tr style=\"text-align: right;\">\n",
              "      <th></th>\n",
              "      <th>Recency</th>\n",
              "      <th>Frequency</th>\n",
              "      <th>Monetary</th>\n",
              "      <th>Rank</th>\n",
              "    </tr>\n",
              "    <tr>\n",
              "      <th>CustomerID</th>\n",
              "      <th></th>\n",
              "      <th></th>\n",
              "      <th></th>\n",
              "      <th></th>\n",
              "    </tr>\n",
              "  </thead>\n",
              "  <tbody>\n",
              "    <tr>\n",
              "      <th>12346.0</th>\n",
              "      <td>325</td>\n",
              "      <td>1</td>\n",
              "      <td>77183.60</td>\n",
              "      <td>2.0</td>\n",
              "    </tr>\n",
              "    <tr>\n",
              "      <th>12747.0</th>\n",
              "      <td>2</td>\n",
              "      <td>10</td>\n",
              "      <td>658.89</td>\n",
              "      <td>183.0</td>\n",
              "    </tr>\n",
              "    <tr>\n",
              "      <th>12748.0</th>\n",
              "      <td>0</td>\n",
              "      <td>196</td>\n",
              "      <td>3739.23</td>\n",
              "      <td>34.0</td>\n",
              "    </tr>\n",
              "    <tr>\n",
              "      <th>12749.0</th>\n",
              "      <td>3</td>\n",
              "      <td>5</td>\n",
              "      <td>98.35</td>\n",
              "      <td>1140.0</td>\n",
              "    </tr>\n",
              "    <tr>\n",
              "      <th>12820.0</th>\n",
              "      <td>3</td>\n",
              "      <td>4</td>\n",
              "      <td>58.20</td>\n",
              "      <td>1665.5</td>\n",
              "    </tr>\n",
              "  </tbody>\n",
              "</table>\n",
              "</div>"
            ],
            "text/plain": [
              "            Recency  Frequency  Monetary    Rank\n",
              "CustomerID                                      \n",
              "12346.0         325          1  77183.60     2.0\n",
              "12747.0           2         10    658.89   183.0\n",
              "12748.0           0        196   3739.23    34.0\n",
              "12749.0           3          5     98.35  1140.0\n",
              "12820.0           3          4     58.20  1665.5"
            ]
          },
          "metadata": {
            "tags": []
          },
          "execution_count": 31
        }
      ]
    },
    {
      "cell_type": "code",
      "metadata": {
        "id": "Jg23-HEjJNB1",
        "colab_type": "code",
        "outputId": "d880e7eb-e1e1-4fed-8520-02e5d6248b12",
        "colab": {
          "base_uri": "https://localhost:8080/",
          "height": 108
        }
      },
      "source": [
        "customers_rank.max()"
      ],
      "execution_count": 0,
      "outputs": [
        {
          "output_type": "execute_result",
          "data": {
            "text/plain": [
              "Recency         365.00\n",
              "Frequency       196.00\n",
              "Monetary     168471.25\n",
              "Rank           3863.00\n",
              "dtype: float64"
            ]
          },
          "metadata": {
            "tags": []
          },
          "execution_count": 32
        }
      ]
    },
    {
      "cell_type": "markdown",
      "metadata": {
        "id": "IG1jTO0cJ2fC",
        "colab_type": "text"
      },
      "source": [
        "###__Top Customers__"
      ]
    },
    {
      "cell_type": "code",
      "metadata": {
        "id": "SKfhMvH0JkDP",
        "colab_type": "code",
        "outputId": "df8fa0a4-c048-4544-9653-8ad82617dad0",
        "colab": {
          "base_uri": "https://localhost:8080/",
          "height": 436
        }
      },
      "source": [
        "customers_rank.sort_values('Rank', ascending=True)"
      ],
      "execution_count": 0,
      "outputs": [
        {
          "output_type": "execute_result",
          "data": {
            "text/html": [
              "<div>\n",
              "<style scoped>\n",
              "    .dataframe tbody tr th:only-of-type {\n",
              "        vertical-align: middle;\n",
              "    }\n",
              "\n",
              "    .dataframe tbody tr th {\n",
              "        vertical-align: top;\n",
              "    }\n",
              "\n",
              "    .dataframe thead th {\n",
              "        text-align: right;\n",
              "    }\n",
              "</style>\n",
              "<table border=\"1\" class=\"dataframe\">\n",
              "  <thead>\n",
              "    <tr style=\"text-align: right;\">\n",
              "      <th></th>\n",
              "      <th>Recency</th>\n",
              "      <th>Frequency</th>\n",
              "      <th>Monetary</th>\n",
              "      <th>Rank</th>\n",
              "    </tr>\n",
              "    <tr>\n",
              "      <th>CustomerID</th>\n",
              "      <th></th>\n",
              "      <th></th>\n",
              "      <th></th>\n",
              "      <th></th>\n",
              "    </tr>\n",
              "  </thead>\n",
              "  <tbody>\n",
              "    <tr>\n",
              "      <th>16446.0</th>\n",
              "      <td>0</td>\n",
              "      <td>2</td>\n",
              "      <td>168471.25</td>\n",
              "      <td>1.0</td>\n",
              "    </tr>\n",
              "    <tr>\n",
              "      <th>12346.0</th>\n",
              "      <td>325</td>\n",
              "      <td>1</td>\n",
              "      <td>77183.60</td>\n",
              "      <td>2.0</td>\n",
              "    </tr>\n",
              "    <tr>\n",
              "      <th>15098.0</th>\n",
              "      <td>182</td>\n",
              "      <td>3</td>\n",
              "      <td>39916.50</td>\n",
              "      <td>3.0</td>\n",
              "    </tr>\n",
              "    <tr>\n",
              "      <th>18102.0</th>\n",
              "      <td>0</td>\n",
              "      <td>57</td>\n",
              "      <td>39646.45</td>\n",
              "      <td>4.0</td>\n",
              "    </tr>\n",
              "    <tr>\n",
              "      <th>17949.0</th>\n",
              "      <td>1</td>\n",
              "      <td>44</td>\n",
              "      <td>28685.69</td>\n",
              "      <td>5.0</td>\n",
              "    </tr>\n",
              "    <tr>\n",
              "      <th>...</th>\n",
              "      <td>...</td>\n",
              "      <td>...</td>\n",
              "      <td>...</td>\n",
              "      <td>...</td>\n",
              "    </tr>\n",
              "    <tr>\n",
              "      <th>15503.0</th>\n",
              "      <td>362</td>\n",
              "      <td>1</td>\n",
              "      <td>0.42</td>\n",
              "      <td>3859.5</td>\n",
              "    </tr>\n",
              "    <tr>\n",
              "      <th>15645.0</th>\n",
              "      <td>18</td>\n",
              "      <td>1</td>\n",
              "      <td>0.42</td>\n",
              "      <td>3859.5</td>\n",
              "    </tr>\n",
              "    <tr>\n",
              "      <th>17914.0</th>\n",
              "      <td>3</td>\n",
              "      <td>1</td>\n",
              "      <td>0.39</td>\n",
              "      <td>3861.5</td>\n",
              "    </tr>\n",
              "    <tr>\n",
              "      <th>13271.0</th>\n",
              "      <td>37</td>\n",
              "      <td>1</td>\n",
              "      <td>0.39</td>\n",
              "      <td>3861.5</td>\n",
              "    </tr>\n",
              "    <tr>\n",
              "      <th>13256.0</th>\n",
              "      <td>14</td>\n",
              "      <td>1</td>\n",
              "      <td>0.00</td>\n",
              "      <td>3863.0</td>\n",
              "    </tr>\n",
              "  </tbody>\n",
              "</table>\n",
              "<p>3863 rows × 4 columns</p>\n",
              "</div>"
            ],
            "text/plain": [
              "            Recency  Frequency   Monetary    Rank\n",
              "CustomerID                                       \n",
              "16446.0           0          2  168471.25     1.0\n",
              "12346.0         325          1   77183.60     2.0\n",
              "15098.0         182          3   39916.50     3.0\n",
              "18102.0           0         57   39646.45     4.0\n",
              "17949.0           1         44   28685.69     5.0\n",
              "...             ...        ...        ...     ...\n",
              "15503.0         362          1       0.42  3859.5\n",
              "15645.0          18          1       0.42  3859.5\n",
              "17914.0           3          1       0.39  3861.5\n",
              "13271.0          37          1       0.39  3861.5\n",
              "13256.0          14          1       0.00  3863.0\n",
              "\n",
              "[3863 rows x 4 columns]"
            ]
          },
          "metadata": {
            "tags": []
          },
          "execution_count": 33
        }
      ]
    },
    {
      "cell_type": "code",
      "metadata": {
        "id": "ogn9LGyMJ78d",
        "colab_type": "code",
        "outputId": "8cd6c634-ec4d-44ea-ac64-5f590a4aca69",
        "colab": {
          "base_uri": "https://localhost:8080/",
          "height": 35
        }
      },
      "source": [
        "#get top 20% of the customers\n",
        "top_20_cutoff = 3863 *20 /100\n",
        "top_20_cutoff"
      ],
      "execution_count": 0,
      "outputs": [
        {
          "output_type": "execute_result",
          "data": {
            "text/plain": [
              "772.6"
            ]
          },
          "metadata": {
            "tags": []
          },
          "execution_count": 34
        }
      ]
    },
    {
      "cell_type": "code",
      "metadata": {
        "id": "CauCLFAdvO3T",
        "colab_type": "code",
        "outputId": "615e1ad7-19a6-429e-fb2a-3896779e76c4",
        "colab": {
          "base_uri": "https://localhost:8080/",
          "height": 35
        }
      },
      "source": [
        "#sum the monetary values over the customer with rank <=773\n",
        "revenueTop20 = customers_rank[customers_rank['Rank'] <= 772]['Monetary'].sum()\n",
        "revenueTop20"
      ],
      "execution_count": 0,
      "outputs": [
        {
          "output_type": "execute_result",
          "data": {
            "text/plain": [
              "976683.3499999999"
            ]
          },
          "metadata": {
            "tags": []
          },
          "execution_count": 35
        }
      ]
    },
    {
      "cell_type": "markdown",
      "metadata": {
        "id": "voM6lU88vu4u",
        "colab_type": "text"
      },
      "source": [
        "__Conclusion__: we can see that 80% of total revenue is:  __890679__, and the revenue from top 20 customers is __976683__. Which means that our 20% of top customers make even more than 80% of the total revenue. Thus, we can see that Pareto Principle works here. \n",
        "\n",
        "Now we need to explore these top 20% customers more. "
      ]
    },
    {
      "cell_type": "markdown",
      "metadata": {
        "id": "I9KVZ1vixDI7",
        "colab_type": "text"
      },
      "source": [
        "###__Applying RFM score formula__\n",
        "\n",
        "The simplest way to create customers segments from RFM Model is to use __Quartiles (score from 1 to 4)__ or __Quintiles (score from 1-5)__, it's just depends on business needs. In our case it is easier to use quartiles. So, we assign a score from 1 to 4 to Recency, Frequency and Monetary. \n",
        "* __1__ - best/highest value\n",
        "* __4__ - the lowest/worst value. \n",
        "\n",
        "A final RFM score is calculated simply by combining individual RFM score numbers."
      ]
    },
    {
      "cell_type": "markdown",
      "metadata": {
        "id": "9NDb9wOVx2KT",
        "colab_type": "text"
      },
      "source": [
        "####__RFM Quartiles__"
      ]
    },
    {
      "cell_type": "code",
      "metadata": {
        "id": "FZsWWLi4vcEW",
        "colab_type": "code",
        "outputId": "d8fa4669-d30e-43ed-b308-c9db86386e60",
        "colab": {
          "base_uri": "https://localhost:8080/",
          "height": 138
        }
      },
      "source": [
        "quantiles = rfm_df.quantile(q=[0.25, 0.5, 0.75])\n",
        "quantiles"
      ],
      "execution_count": 0,
      "outputs": [
        {
          "output_type": "execute_result",
          "data": {
            "text/html": [
              "<div>\n",
              "<style scoped>\n",
              "    .dataframe tbody tr th:only-of-type {\n",
              "        vertical-align: middle;\n",
              "    }\n",
              "\n",
              "    .dataframe tbody tr th {\n",
              "        vertical-align: top;\n",
              "    }\n",
              "\n",
              "    .dataframe thead th {\n",
              "        text-align: right;\n",
              "    }\n",
              "</style>\n",
              "<table border=\"1\" class=\"dataframe\">\n",
              "  <thead>\n",
              "    <tr style=\"text-align: right;\">\n",
              "      <th></th>\n",
              "      <th>Recency</th>\n",
              "      <th>Frequency</th>\n",
              "      <th>Monetary</th>\n",
              "      <th>Rank</th>\n",
              "    </tr>\n",
              "  </thead>\n",
              "  <tbody>\n",
              "    <tr>\n",
              "      <th>0.25</th>\n",
              "      <td>17.0</td>\n",
              "      <td>1.0</td>\n",
              "      <td>17.4</td>\n",
              "      <td>966.5</td>\n",
              "    </tr>\n",
              "    <tr>\n",
              "      <th>0.50</th>\n",
              "      <td>49.0</td>\n",
              "      <td>2.0</td>\n",
              "      <td>45.0</td>\n",
              "      <td>1930.5</td>\n",
              "    </tr>\n",
              "    <tr>\n",
              "      <th>0.75</th>\n",
              "      <td>134.0</td>\n",
              "      <td>5.0</td>\n",
              "      <td>121.6</td>\n",
              "      <td>2898.0</td>\n",
              "    </tr>\n",
              "  </tbody>\n",
              "</table>\n",
              "</div>"
            ],
            "text/plain": [
              "      Recency  Frequency  Monetary    Rank\n",
              "0.25     17.0        1.0      17.4   966.5\n",
              "0.50     49.0        2.0      45.0  1930.5\n",
              "0.75    134.0        5.0     121.6  2898.0"
            ]
          },
          "metadata": {
            "tags": []
          },
          "execution_count": 36
        }
      ]
    },
    {
      "cell_type": "code",
      "metadata": {
        "id": "Ti_Ifp8rybPc",
        "colab_type": "code",
        "outputId": "f248b701-df38-4630-a73e-a051d31871f3",
        "colab": {
          "base_uri": "https://localhost:8080/",
          "height": 90
        }
      },
      "source": [
        "quantiles.to_dict()"
      ],
      "execution_count": 0,
      "outputs": [
        {
          "output_type": "execute_result",
          "data": {
            "text/plain": [
              "{'Frequency': {0.25: 1.0, 0.5: 2.0, 0.75: 5.0},\n",
              " 'Monetary': {0.25: 17.4, 0.5: 45.0, 0.75: 121.6},\n",
              " 'Rank': {0.25: 966.5, 0.5: 1930.5, 0.75: 2898.0},\n",
              " 'Recency': {0.25: 17.0, 0.5: 49.0, 0.75: 134.0}}"
            ]
          },
          "metadata": {
            "tags": []
          },
          "execution_count": 37
        }
      ]
    },
    {
      "cell_type": "markdown",
      "metadata": {
        "id": "rBLWGumxzDoF",
        "colab_type": "text"
      },
      "source": [
        "####__Creation of RFM segmentation table__\n",
        "Create two segmentation classes since, high recency is bad, while high frequency and monetary value is good."
      ]
    },
    {
      "cell_type": "code",
      "metadata": {
        "id": "IIUNv5MmylG6",
        "colab_type": "code",
        "colab": {}
      },
      "source": [
        "# Arguments (x = value, p = recency, monetary_value, frequency, d = quartiles dict)\n",
        "def RScore(x,p,d):\n",
        "    if x <= d[p][0.25]:\n",
        "        return 1\n",
        "    elif x <= d[p][0.50]:\n",
        "        return 2\n",
        "    elif x <= d[p][0.75]: \n",
        "        return 3\n",
        "    else:\n",
        "        return 4\n",
        "# Arguments (x = value, p = recency, monetary_value, frequency, k = quartiles dict)\n",
        "def FMScore(x,p,d):\n",
        "    if x <= d[p][0.25]:\n",
        "        return 4\n",
        "    elif x <= d[p][0.50]:\n",
        "        return 3\n",
        "    elif x <= d[p][0.75]: \n",
        "        return 2\n",
        "    else:\n",
        "        return 1"
      ],
      "execution_count": 0,
      "outputs": []
    },
    {
      "cell_type": "code",
      "metadata": {
        "id": "WF9ZG7tk0Ar3",
        "colab_type": "code",
        "colab": {}
      },
      "source": [
        "#create rfm segmentation table\n",
        "rfm_segmentation = rfm_df\n",
        "rfm_segmentation['R_Quartile'] = rfm_segmentation['Recency'].apply(RScore, args=('Recency', quantiles,))\n",
        "rfm_segmentation['F_Quartile'] = rfm_segmentation['Frequency'].apply(FMScore, args=('Frequency', quantiles,))\n",
        "rfm_segmentation['M_Quartile'] = rfm_segmentation['Monetary'].apply(FMScore, args=('Monetary', quantiles,))"
      ],
      "execution_count": 0,
      "outputs": []
    },
    {
      "cell_type": "code",
      "metadata": {
        "id": "hjo4lNJs0Wpl",
        "colab_type": "code",
        "outputId": "bdc34030-5859-4514-b983-aa9df9e65cf2",
        "colab": {
          "base_uri": "https://localhost:8080/",
          "height": 227
        }
      },
      "source": [
        "rfm_segmentation = rfm_segmentation.drop(columns=['Rank'])\n",
        "rfm_segmentation.head()"
      ],
      "execution_count": 0,
      "outputs": [
        {
          "output_type": "execute_result",
          "data": {
            "text/html": [
              "<div>\n",
              "<style scoped>\n",
              "    .dataframe tbody tr th:only-of-type {\n",
              "        vertical-align: middle;\n",
              "    }\n",
              "\n",
              "    .dataframe tbody tr th {\n",
              "        vertical-align: top;\n",
              "    }\n",
              "\n",
              "    .dataframe thead th {\n",
              "        text-align: right;\n",
              "    }\n",
              "</style>\n",
              "<table border=\"1\" class=\"dataframe\">\n",
              "  <thead>\n",
              "    <tr style=\"text-align: right;\">\n",
              "      <th></th>\n",
              "      <th>Recency</th>\n",
              "      <th>Frequency</th>\n",
              "      <th>Monetary</th>\n",
              "      <th>R_Quartile</th>\n",
              "      <th>F_Quartile</th>\n",
              "      <th>M_Quartile</th>\n",
              "    </tr>\n",
              "    <tr>\n",
              "      <th>CustomerID</th>\n",
              "      <th></th>\n",
              "      <th></th>\n",
              "      <th></th>\n",
              "      <th></th>\n",
              "      <th></th>\n",
              "      <th></th>\n",
              "    </tr>\n",
              "  </thead>\n",
              "  <tbody>\n",
              "    <tr>\n",
              "      <th>12346.0</th>\n",
              "      <td>325</td>\n",
              "      <td>1</td>\n",
              "      <td>77183.60</td>\n",
              "      <td>4</td>\n",
              "      <td>4</td>\n",
              "      <td>1</td>\n",
              "    </tr>\n",
              "    <tr>\n",
              "      <th>12747.0</th>\n",
              "      <td>2</td>\n",
              "      <td>10</td>\n",
              "      <td>658.89</td>\n",
              "      <td>1</td>\n",
              "      <td>1</td>\n",
              "      <td>1</td>\n",
              "    </tr>\n",
              "    <tr>\n",
              "      <th>12748.0</th>\n",
              "      <td>0</td>\n",
              "      <td>196</td>\n",
              "      <td>3739.23</td>\n",
              "      <td>1</td>\n",
              "      <td>1</td>\n",
              "      <td>1</td>\n",
              "    </tr>\n",
              "    <tr>\n",
              "      <th>12749.0</th>\n",
              "      <td>3</td>\n",
              "      <td>5</td>\n",
              "      <td>98.35</td>\n",
              "      <td>1</td>\n",
              "      <td>2</td>\n",
              "      <td>2</td>\n",
              "    </tr>\n",
              "    <tr>\n",
              "      <th>12820.0</th>\n",
              "      <td>3</td>\n",
              "      <td>4</td>\n",
              "      <td>58.20</td>\n",
              "      <td>1</td>\n",
              "      <td>2</td>\n",
              "      <td>2</td>\n",
              "    </tr>\n",
              "  </tbody>\n",
              "</table>\n",
              "</div>"
            ],
            "text/plain": [
              "            Recency  Frequency  Monetary  R_Quartile  F_Quartile  M_Quartile\n",
              "CustomerID                                                                  \n",
              "12346.0         325          1  77183.60           4           4           1\n",
              "12747.0           2         10    658.89           1           1           1\n",
              "12748.0           0        196   3739.23           1           1           1\n",
              "12749.0           3          5     98.35           1           2           2\n",
              "12820.0           3          4     58.20           1           2           2"
            ]
          },
          "metadata": {
            "tags": []
          },
          "execution_count": 40
        }
      ]
    },
    {
      "cell_type": "markdown",
      "metadata": {
        "id": "efnsE9ut2ASN",
        "colab_type": "text"
      },
      "source": [
        "Now we can combine the scores (R_Quartile, F_Quartile, M_Quartile) together and present our customer segmentation"
      ]
    },
    {
      "cell_type": "code",
      "metadata": {
        "id": "3k2rH5Wx0YzW",
        "colab_type": "code",
        "outputId": "bc5fae16-517e-477b-86ad-4cdae9893f1a",
        "colab": {
          "base_uri": "https://localhost:8080/",
          "height": 227
        }
      },
      "source": [
        "rfm_segmentation['RFMScore'] = rfm_segmentation.R_Quartile.map(str) \\\n",
        "                            + rfm_segmentation.F_Quartile.map(str) \\\n",
        "                            + rfm_segmentation.M_Quartile.map(str)\n",
        "rfm_segmentation.head()"
      ],
      "execution_count": 0,
      "outputs": [
        {
          "output_type": "execute_result",
          "data": {
            "text/html": [
              "<div>\n",
              "<style scoped>\n",
              "    .dataframe tbody tr th:only-of-type {\n",
              "        vertical-align: middle;\n",
              "    }\n",
              "\n",
              "    .dataframe tbody tr th {\n",
              "        vertical-align: top;\n",
              "    }\n",
              "\n",
              "    .dataframe thead th {\n",
              "        text-align: right;\n",
              "    }\n",
              "</style>\n",
              "<table border=\"1\" class=\"dataframe\">\n",
              "  <thead>\n",
              "    <tr style=\"text-align: right;\">\n",
              "      <th></th>\n",
              "      <th>Recency</th>\n",
              "      <th>Frequency</th>\n",
              "      <th>Monetary</th>\n",
              "      <th>R_Quartile</th>\n",
              "      <th>F_Quartile</th>\n",
              "      <th>M_Quartile</th>\n",
              "      <th>RFMScore</th>\n",
              "    </tr>\n",
              "    <tr>\n",
              "      <th>CustomerID</th>\n",
              "      <th></th>\n",
              "      <th></th>\n",
              "      <th></th>\n",
              "      <th></th>\n",
              "      <th></th>\n",
              "      <th></th>\n",
              "      <th></th>\n",
              "    </tr>\n",
              "  </thead>\n",
              "  <tbody>\n",
              "    <tr>\n",
              "      <th>12346.0</th>\n",
              "      <td>325</td>\n",
              "      <td>1</td>\n",
              "      <td>77183.60</td>\n",
              "      <td>4</td>\n",
              "      <td>4</td>\n",
              "      <td>1</td>\n",
              "      <td>441</td>\n",
              "    </tr>\n",
              "    <tr>\n",
              "      <th>12747.0</th>\n",
              "      <td>2</td>\n",
              "      <td>10</td>\n",
              "      <td>658.89</td>\n",
              "      <td>1</td>\n",
              "      <td>1</td>\n",
              "      <td>1</td>\n",
              "      <td>111</td>\n",
              "    </tr>\n",
              "    <tr>\n",
              "      <th>12748.0</th>\n",
              "      <td>0</td>\n",
              "      <td>196</td>\n",
              "      <td>3739.23</td>\n",
              "      <td>1</td>\n",
              "      <td>1</td>\n",
              "      <td>1</td>\n",
              "      <td>111</td>\n",
              "    </tr>\n",
              "    <tr>\n",
              "      <th>12749.0</th>\n",
              "      <td>3</td>\n",
              "      <td>5</td>\n",
              "      <td>98.35</td>\n",
              "      <td>1</td>\n",
              "      <td>2</td>\n",
              "      <td>2</td>\n",
              "      <td>122</td>\n",
              "    </tr>\n",
              "    <tr>\n",
              "      <th>12820.0</th>\n",
              "      <td>3</td>\n",
              "      <td>4</td>\n",
              "      <td>58.20</td>\n",
              "      <td>1</td>\n",
              "      <td>2</td>\n",
              "      <td>2</td>\n",
              "      <td>122</td>\n",
              "    </tr>\n",
              "  </tbody>\n",
              "</table>\n",
              "</div>"
            ],
            "text/plain": [
              "            Recency  Frequency  Monetary  ...  F_Quartile  M_Quartile  RFMScore\n",
              "CustomerID                                ...                                  \n",
              "12346.0         325          1  77183.60  ...           4           1       441\n",
              "12747.0           2         10    658.89  ...           1           1       111\n",
              "12748.0           0        196   3739.23  ...           1           1       111\n",
              "12749.0           3          5     98.35  ...           2           2       122\n",
              "12820.0           3          4     58.20  ...           2           2       122\n",
              "\n",
              "[5 rows x 7 columns]"
            ]
          },
          "metadata": {
            "tags": []
          },
          "execution_count": 41
        }
      ]
    },
    {
      "cell_type": "markdown",
      "metadata": {
        "id": "PfPm4TrJ4gY8",
        "colab_type": "text"
      },
      "source": [
        "Our best customers should have the highest of these three scores:\n",
        "* __Best Recency score = 1__: means most recently purchase. \n",
        "* __Best Frequency score = 1__: highest number of purchases. \n",
        "* __Best Monetary score = 1__: spent the most."
      ]
    },
    {
      "cell_type": "code",
      "metadata": {
        "id": "58sgE2Je4BZp",
        "colab_type": "code",
        "outputId": "c39fabf3-b30a-4906-9924-701e97117689",
        "colab": {
          "base_uri": "https://localhost:8080/",
          "height": 377
        }
      },
      "source": [
        "rfm_segmentation[rfm_segmentation['RFMScore']=='111'].sort_values('Monetary', ascending=False).head(10)"
      ],
      "execution_count": 0,
      "outputs": [
        {
          "output_type": "execute_result",
          "data": {
            "text/html": [
              "<div>\n",
              "<style scoped>\n",
              "    .dataframe tbody tr th:only-of-type {\n",
              "        vertical-align: middle;\n",
              "    }\n",
              "\n",
              "    .dataframe tbody tr th {\n",
              "        vertical-align: top;\n",
              "    }\n",
              "\n",
              "    .dataframe thead th {\n",
              "        text-align: right;\n",
              "    }\n",
              "</style>\n",
              "<table border=\"1\" class=\"dataframe\">\n",
              "  <thead>\n",
              "    <tr style=\"text-align: right;\">\n",
              "      <th></th>\n",
              "      <th>Recency</th>\n",
              "      <th>Frequency</th>\n",
              "      <th>Monetary</th>\n",
              "      <th>R_Quartile</th>\n",
              "      <th>F_Quartile</th>\n",
              "      <th>M_Quartile</th>\n",
              "      <th>RFMScore</th>\n",
              "    </tr>\n",
              "    <tr>\n",
              "      <th>CustomerID</th>\n",
              "      <th></th>\n",
              "      <th></th>\n",
              "      <th></th>\n",
              "      <th></th>\n",
              "      <th></th>\n",
              "      <th></th>\n",
              "      <th></th>\n",
              "    </tr>\n",
              "  </thead>\n",
              "  <tbody>\n",
              "    <tr>\n",
              "      <th>18102.0</th>\n",
              "      <td>0</td>\n",
              "      <td>57</td>\n",
              "      <td>39646.45</td>\n",
              "      <td>1</td>\n",
              "      <td>1</td>\n",
              "      <td>1</td>\n",
              "      <td>111</td>\n",
              "    </tr>\n",
              "    <tr>\n",
              "      <th>17949.0</th>\n",
              "      <td>1</td>\n",
              "      <td>44</td>\n",
              "      <td>28685.69</td>\n",
              "      <td>1</td>\n",
              "      <td>1</td>\n",
              "      <td>1</td>\n",
              "      <td>111</td>\n",
              "    </tr>\n",
              "    <tr>\n",
              "      <th>17450.0</th>\n",
              "      <td>8</td>\n",
              "      <td>44</td>\n",
              "      <td>25953.51</td>\n",
              "      <td>1</td>\n",
              "      <td>1</td>\n",
              "      <td>1</td>\n",
              "      <td>111</td>\n",
              "    </tr>\n",
              "    <tr>\n",
              "      <th>16013.0</th>\n",
              "      <td>3</td>\n",
              "      <td>45</td>\n",
              "      <td>17163.28</td>\n",
              "      <td>1</td>\n",
              "      <td>1</td>\n",
              "      <td>1</td>\n",
              "      <td>111</td>\n",
              "    </tr>\n",
              "    <tr>\n",
              "      <th>16333.0</th>\n",
              "      <td>7</td>\n",
              "      <td>22</td>\n",
              "      <td>14418.96</td>\n",
              "      <td>1</td>\n",
              "      <td>1</td>\n",
              "      <td>1</td>\n",
              "      <td>111</td>\n",
              "    </tr>\n",
              "    <tr>\n",
              "      <th>15769.0</th>\n",
              "      <td>7</td>\n",
              "      <td>25</td>\n",
              "      <td>11660.84</td>\n",
              "      <td>1</td>\n",
              "      <td>1</td>\n",
              "      <td>1</td>\n",
              "      <td>111</td>\n",
              "    </tr>\n",
              "    <tr>\n",
              "      <th>12901.0</th>\n",
              "      <td>8</td>\n",
              "      <td>28</td>\n",
              "      <td>9230.45</td>\n",
              "      <td>1</td>\n",
              "      <td>1</td>\n",
              "      <td>1</td>\n",
              "      <td>111</td>\n",
              "    </tr>\n",
              "    <tr>\n",
              "      <th>13798.0</th>\n",
              "      <td>1</td>\n",
              "      <td>56</td>\n",
              "      <td>7786.26</td>\n",
              "      <td>1</td>\n",
              "      <td>1</td>\n",
              "      <td>1</td>\n",
              "      <td>111</td>\n",
              "    </tr>\n",
              "    <tr>\n",
              "      <th>16684.0</th>\n",
              "      <td>4</td>\n",
              "      <td>28</td>\n",
              "      <td>7700.08</td>\n",
              "      <td>1</td>\n",
              "      <td>1</td>\n",
              "      <td>1</td>\n",
              "      <td>111</td>\n",
              "    </tr>\n",
              "    <tr>\n",
              "      <th>17857.0</th>\n",
              "      <td>4</td>\n",
              "      <td>23</td>\n",
              "      <td>7655.18</td>\n",
              "      <td>1</td>\n",
              "      <td>1</td>\n",
              "      <td>1</td>\n",
              "      <td>111</td>\n",
              "    </tr>\n",
              "  </tbody>\n",
              "</table>\n",
              "</div>"
            ],
            "text/plain": [
              "            Recency  Frequency  Monetary  ...  F_Quartile  M_Quartile  RFMScore\n",
              "CustomerID                                ...                                  \n",
              "18102.0           0         57  39646.45  ...           1           1       111\n",
              "17949.0           1         44  28685.69  ...           1           1       111\n",
              "17450.0           8         44  25953.51  ...           1           1       111\n",
              "16013.0           3         45  17163.28  ...           1           1       111\n",
              "16333.0           7         22  14418.96  ...           1           1       111\n",
              "15769.0           7         25  11660.84  ...           1           1       111\n",
              "12901.0           8         28   9230.45  ...           1           1       111\n",
              "13798.0           1         56   7786.26  ...           1           1       111\n",
              "16684.0           4         28   7700.08  ...           1           1       111\n",
              "17857.0           4         23   7655.18  ...           1           1       111\n",
              "\n",
              "[10 rows x 7 columns]"
            ]
          },
          "metadata": {
            "tags": []
          },
          "execution_count": 42
        }
      ]
    },
    {
      "cell_type": "code",
      "metadata": {
        "id": "9CkjmHptqI1G",
        "colab_type": "code",
        "colab": {}
      },
      "source": [
        "df = rfm_segmentation.groupby('RFMScore')\n",
        "df2 = rfm_segmentation.groupby('F_Quartile')\n",
        "df3 = rfm_segmentation.groupby('M_Quartile')\n",
        "\n",
        "best_customers_monetary = (df.get_group('111'))['Monetary'].sum()\n",
        "loyal_customers_monetary = (df2.get_group(1))['Monetary'].sum()\n",
        "big_spenders_monetary = df3.get_group(1)['Monetary'].sum()\n",
        "almost_lost_customers_monetary = (df.get_group('311'))['Monetary'].sum()\n",
        "lost_customers_monetary = (df.get_group('411'))['Monetary'].sum()\n",
        "lost_cheap_customers_monetary = (df.get_group('444'))['Monetary'].sum()"
      ],
      "execution_count": 0,
      "outputs": []
    },
    {
      "cell_type": "code",
      "metadata": {
        "id": "Az8yKzW-v8BF",
        "colab_type": "code",
        "colab": {}
      },
      "source": [
        "best_customers_recency = (df.get_group('111'))['Recency'].mean()\n",
        "loyal_customers_recency = (df2.get_group(1))['Recency'].mean()\n",
        "big_spenders_recency = df3.get_group(1)['Recency'].mean()\n",
        "almost_lost_customers_recency = (df.get_group('311'))['Recency'].mean()\n",
        "lost_customers_recency = (df.get_group('411'))['Recency'].mean()\n",
        "lost_cheap_customers_recency = (df.get_group('444'))['Recency'].mean()"
      ],
      "execution_count": 0,
      "outputs": []
    },
    {
      "cell_type": "code",
      "metadata": {
        "id": "Dn1woTFYM7Fq",
        "colab_type": "code",
        "colab": {}
      },
      "source": [
        "rfm_segmentation.to_csv('RFM_Segmentation.csv')"
      ],
      "execution_count": 0,
      "outputs": []
    },
    {
      "cell_type": "markdown",
      "metadata": {
        "id": "pxyu8sTB53Hz",
        "colab_type": "text"
      },
      "source": [
        "The suggestion of key segments can be found [here](https://www.blastanalytics.com/blog/rfm-analysis-boosts-sales). We can assign them to our groups of customers.\n",
        "\n",
        "We can also count how many customers do we have in each segment?"
      ]
    },
    {
      "cell_type": "code",
      "metadata": {
        "id": "i9mo-lkX5dtn",
        "colab_type": "code",
        "outputId": "b937e7c7-81de-49fd-fda5-42a78822e27e",
        "colab": {
          "base_uri": "https://localhost:8080/",
          "height": 126
        }
      },
      "source": [
        "print('Best Customers: ', len(rfm_segmentation[rfm_segmentation['RFMScore']=='111']))\n",
        "print('Loyal Customers: ', len(rfm_segmentation[rfm_segmentation['F_Quartile']==1]))\n",
        "print('Big Spenders: ', len(rfm_segmentation[rfm_segmentation['M_Quartile']==1]))\n",
        "print('Almost Lost: ', len(rfm_segmentation[rfm_segmentation['RFMScore']=='311']))\n",
        "print('Lost Customers: ', len(rfm_segmentation[rfm_segmentation['RFMScore']=='411']))\n",
        "print('Lost Cheap Customers: ', len(rfm_segmentation[rfm_segmentation['RFMScore']=='444']))"
      ],
      "execution_count": 0,
      "outputs": [
        {
          "output_type": "stream",
          "text": [
            "Best Customers:  356\n",
            "Loyal Customers:  752\n",
            "Big Spenders:  966\n",
            "Almost Lost:  64\n",
            "Lost Customers:  9\n",
            "Lost Cheap Customers:  353\n"
          ],
          "name": "stdout"
        }
      ]
    },
    {
      "cell_type": "markdown",
      "metadata": {
        "id": "6Eos9Ap8ENr3",
        "colab_type": "text"
      },
      "source": [
        "Now when the customers categorized the company can personalize marketing campain to each of these customer groups. \n",
        "\n",
        "Also, now we can analyse relationship between RFM variables and build a predictive models by using k-means clustering, Logistic Regression and Recommendation to produce better informative results on customer behavior.\n",
        "\n",
        "__K-means__ is being widely used for Market Segmentation and it offers the advantage of being simple to implement, following Andrew Ng who advice in his Machine Learning course, start with a dirty and simple model then move to more complex models because simple implementation helps having a first glance at the data and know where/how to exploit it better."
      ]
    },
    {
      "cell_type": "markdown",
      "metadata": {
        "id": "xM2QqkC7Irir",
        "colab_type": "text"
      },
      "source": [
        "##__Applying K-means clustering on RFM variables__\n"
      ]
    },
    {
      "cell_type": "markdown",
      "metadata": {
        "id": "Vuk3pTyfI6IH",
        "colab_type": "text"
      },
      "source": [
        "###__Preprocess Data__"
      ]
    },
    {
      "cell_type": "code",
      "metadata": {
        "id": "LNStYmexBYf3",
        "colab_type": "code",
        "outputId": "551b15dc-7cb2-424c-e601-4ce5a767bc41",
        "colab": {
          "base_uri": "https://localhost:8080/",
          "height": 227
        }
      },
      "source": [
        "rfm_data = rfm_segmentation.drop(['R_Quartile','F_Quartile','M_Quartile','RFMScore'], axis=1)\n",
        "rfm_data.head()"
      ],
      "execution_count": 0,
      "outputs": [
        {
          "output_type": "execute_result",
          "data": {
            "text/html": [
              "<div>\n",
              "<style scoped>\n",
              "    .dataframe tbody tr th:only-of-type {\n",
              "        vertical-align: middle;\n",
              "    }\n",
              "\n",
              "    .dataframe tbody tr th {\n",
              "        vertical-align: top;\n",
              "    }\n",
              "\n",
              "    .dataframe thead th {\n",
              "        text-align: right;\n",
              "    }\n",
              "</style>\n",
              "<table border=\"1\" class=\"dataframe\">\n",
              "  <thead>\n",
              "    <tr style=\"text-align: right;\">\n",
              "      <th></th>\n",
              "      <th>Recency</th>\n",
              "      <th>Frequency</th>\n",
              "      <th>Monetary</th>\n",
              "    </tr>\n",
              "    <tr>\n",
              "      <th>CustomerID</th>\n",
              "      <th></th>\n",
              "      <th></th>\n",
              "      <th></th>\n",
              "    </tr>\n",
              "  </thead>\n",
              "  <tbody>\n",
              "    <tr>\n",
              "      <th>12346.0</th>\n",
              "      <td>325</td>\n",
              "      <td>1</td>\n",
              "      <td>77183.60</td>\n",
              "    </tr>\n",
              "    <tr>\n",
              "      <th>12747.0</th>\n",
              "      <td>2</td>\n",
              "      <td>10</td>\n",
              "      <td>658.89</td>\n",
              "    </tr>\n",
              "    <tr>\n",
              "      <th>12748.0</th>\n",
              "      <td>0</td>\n",
              "      <td>196</td>\n",
              "      <td>3739.23</td>\n",
              "    </tr>\n",
              "    <tr>\n",
              "      <th>12749.0</th>\n",
              "      <td>3</td>\n",
              "      <td>5</td>\n",
              "      <td>98.35</td>\n",
              "    </tr>\n",
              "    <tr>\n",
              "      <th>12820.0</th>\n",
              "      <td>3</td>\n",
              "      <td>4</td>\n",
              "      <td>58.20</td>\n",
              "    </tr>\n",
              "  </tbody>\n",
              "</table>\n",
              "</div>"
            ],
            "text/plain": [
              "            Recency  Frequency  Monetary\n",
              "CustomerID                              \n",
              "12346.0         325          1  77183.60\n",
              "12747.0           2         10    658.89\n",
              "12748.0           0        196   3739.23\n",
              "12749.0           3          5     98.35\n",
              "12820.0           3          4     58.20"
            ]
          },
          "metadata": {
            "tags": []
          },
          "execution_count": 42
        }
      ]
    },
    {
      "cell_type": "markdown",
      "metadata": {
        "id": "gHJsVqARJY-V",
        "colab_type": "text"
      },
      "source": [
        "###__Feature correlations__"
      ]
    },
    {
      "cell_type": "code",
      "metadata": {
        "id": "1qOglaIJI-WJ",
        "colab_type": "code",
        "outputId": "0d99846e-3d50-44b9-dbcf-5577b07a1f32",
        "colab": {
          "base_uri": "https://localhost:8080/",
          "height": 138
        }
      },
      "source": [
        "rfm_data.corr()"
      ],
      "execution_count": 0,
      "outputs": [
        {
          "output_type": "execute_result",
          "data": {
            "text/html": [
              "<div>\n",
              "<style scoped>\n",
              "    .dataframe tbody tr th:only-of-type {\n",
              "        vertical-align: middle;\n",
              "    }\n",
              "\n",
              "    .dataframe tbody tr th {\n",
              "        vertical-align: top;\n",
              "    }\n",
              "\n",
              "    .dataframe thead th {\n",
              "        text-align: right;\n",
              "    }\n",
              "</style>\n",
              "<table border=\"1\" class=\"dataframe\">\n",
              "  <thead>\n",
              "    <tr style=\"text-align: right;\">\n",
              "      <th></th>\n",
              "      <th>Recency</th>\n",
              "      <th>Frequency</th>\n",
              "      <th>Monetary</th>\n",
              "    </tr>\n",
              "  </thead>\n",
              "  <tbody>\n",
              "    <tr>\n",
              "      <th>Recency</th>\n",
              "      <td>1.000000</td>\n",
              "      <td>-0.279236</td>\n",
              "      <td>-0.027727</td>\n",
              "    </tr>\n",
              "    <tr>\n",
              "      <th>Frequency</th>\n",
              "      <td>-0.279236</td>\n",
              "      <td>1.000000</td>\n",
              "      <td>0.156431</td>\n",
              "    </tr>\n",
              "    <tr>\n",
              "      <th>Monetary</th>\n",
              "      <td>-0.027727</td>\n",
              "      <td>0.156431</td>\n",
              "      <td>1.000000</td>\n",
              "    </tr>\n",
              "  </tbody>\n",
              "</table>\n",
              "</div>"
            ],
            "text/plain": [
              "            Recency  Frequency  Monetary\n",
              "Recency    1.000000  -0.279236 -0.027727\n",
              "Frequency -0.279236   1.000000  0.156431\n",
              "Monetary  -0.027727   0.156431  1.000000"
            ]
          },
          "metadata": {
            "tags": []
          },
          "execution_count": 43
        }
      ]
    },
    {
      "cell_type": "code",
      "metadata": {
        "id": "QJ5eVcDxJbvx",
        "colab_type": "code",
        "outputId": "291c86cd-7c52-4d81-a284-eeeab9e08dd2",
        "colab": {
          "base_uri": "https://localhost:8080/",
          "height": 396
        }
      },
      "source": [
        "plt.figure(figsize=(8, 6))\n",
        "sns.heatmap(rfm_data.corr())"
      ],
      "execution_count": 0,
      "outputs": [
        {
          "output_type": "execute_result",
          "data": {
            "text/plain": [
              "<matplotlib.axes._subplots.AxesSubplot at 0x7f5450074e10>"
            ]
          },
          "metadata": {
            "tags": []
          },
          "execution_count": 44
        },
        {
          "output_type": "display_data",
          "data": {
            "image/png": "[encoded data removed]",
            "text/plain": [
              "<Figure size 576x432 with 2 Axes>"
            ]
          },
          "metadata": {
            "tags": []
          }
        }
      ]
    },
    {
      "cell_type": "markdown",
      "metadata": {
        "id": "OTSlMlLSMI3P",
        "colab_type": "text"
      },
      "source": [
        "We can see that Monetary-Recency are slightly positively correlated. Frequency-Recency are opposite."
      ]
    },
    {
      "cell_type": "markdown",
      "metadata": {
        "id": "MXfLdBGRMtTc",
        "colab_type": "text"
      },
      "source": [
        "###__Visualize feature distributions__\n",
        "\n",
        "Let's plot a scatter matrix of each of the three features presented in the RFM data."
      ]
    },
    {
      "cell_type": "code",
      "metadata": {
        "id": "xZtk6B27Jx5v",
        "colab_type": "code",
        "outputId": "9718505a-e841-403f-bc98-488e22ea893d",
        "colab": {
          "base_uri": "https://localhost:8080/",
          "height": 807
        }
      },
      "source": [
        "scatter_matrix(rfm_data, alpha = 0.4, figsize = (15, 10), diagonal = 'kde')"
      ],
      "execution_count": 0,
      "outputs": [
        {
          "output_type": "execute_result",
          "data": {
            "text/plain": [
              "array([[<matplotlib.axes._subplots.AxesSubplot object at 0x7f544b58fd30>,\n",
              "        <matplotlib.axes._subplots.AxesSubplot object at 0x7f544b5b7fd0>,\n",
              "        <matplotlib.axes._subplots.AxesSubplot object at 0x7f544b566278>],\n",
              "       [<matplotlib.axes._subplots.AxesSubplot object at 0x7f544b50d4e0>,\n",
              "        <matplotlib.axes._subplots.AxesSubplot object at 0x7f544b538748>,\n",
              "        <matplotlib.axes._subplots.AxesSubplot object at 0x7f544b4de9b0>],\n",
              "       [<matplotlib.axes._subplots.AxesSubplot object at 0x7f544b487c18>,\n",
              "        <matplotlib.axes._subplots.AxesSubplot object at 0x7f544b4b1e48>,\n",
              "        <matplotlib.axes._subplots.AxesSubplot object at 0x7f544b4b1eb8>]],\n",
              "      dtype=object)"
            ]
          },
          "metadata": {
            "tags": []
          },
          "execution_count": 45
        },
        {
          "output_type": "display_data",
          "data": {
            "image/png": "[encoded data removed]",
            "text/plain": [
              "<Figure size 1080x720 with 9 Axes>"
            ]
          },
          "metadata": {
            "tags": []
          }
        }
      ]
    },
    {
      "cell_type": "markdown",
      "metadata": {
        "id": "Z6yt09i2NmMs",
        "colab_type": "text"
      },
      "source": [
        "We can see some outliers and also a skewed distribution. It indicates that we need to normalize features from our data to make the data normally distributed, because k-means is sensitive to big numbers. "
      ]
    },
    {
      "cell_type": "markdown",
      "metadata": {
        "id": "hXQ-jnaDOIIA",
        "colab_type": "text"
      },
      "source": [
        "###__Data Normalization__"
      ]
    },
    {
      "cell_type": "code",
      "metadata": {
        "id": "psO2zXZgM78h",
        "colab_type": "code",
        "outputId": "af0b065c-7537-497a-c28e-cd3f07da197d",
        "colab": {
          "base_uri": "https://localhost:8080/",
          "height": 227
        }
      },
      "source": [
        "#Use log function to normalize data\n",
        "rfm_r_log = np.log(rfm_data['Recency'] + 0.1)\n",
        "rfm_f_log = np.log(rfm_data['Frequency'])\n",
        "rfm_m_log = np.log(rfm_data['Monetary'] + 0.1)\n",
        "\n",
        "log_data = pd.DataFrame({'Monetary': rfm_m_log,'Recency': rfm_r_log,'Frequency': rfm_f_log})\n",
        "\n",
        "log_data.head()"
      ],
      "execution_count": 0,
      "outputs": [
        {
          "output_type": "execute_result",
          "data": {
            "text/html": [
              "<div>\n",
              "<style scoped>\n",
              "    .dataframe tbody tr th:only-of-type {\n",
              "        vertical-align: middle;\n",
              "    }\n",
              "\n",
              "    .dataframe tbody tr th {\n",
              "        vertical-align: top;\n",
              "    }\n",
              "\n",
              "    .dataframe thead th {\n",
              "        text-align: right;\n",
              "    }\n",
              "</style>\n",
              "<table border=\"1\" class=\"dataframe\">\n",
              "  <thead>\n",
              "    <tr style=\"text-align: right;\">\n",
              "      <th></th>\n",
              "      <th>Monetary</th>\n",
              "      <th>Recency</th>\n",
              "      <th>Frequency</th>\n",
              "    </tr>\n",
              "    <tr>\n",
              "      <th>CustomerID</th>\n",
              "      <th></th>\n",
              "      <th></th>\n",
              "      <th></th>\n",
              "    </tr>\n",
              "  </thead>\n",
              "  <tbody>\n",
              "    <tr>\n",
              "      <th>12346.0</th>\n",
              "      <td>11.253944</td>\n",
              "      <td>5.784133</td>\n",
              "      <td>0.000000</td>\n",
              "    </tr>\n",
              "    <tr>\n",
              "      <th>12747.0</th>\n",
              "      <td>6.490708</td>\n",
              "      <td>0.741937</td>\n",
              "      <td>2.302585</td>\n",
              "    </tr>\n",
              "    <tr>\n",
              "      <th>12748.0</th>\n",
              "      <td>8.226662</td>\n",
              "      <td>-2.302585</td>\n",
              "      <td>5.278115</td>\n",
              "    </tr>\n",
              "    <tr>\n",
              "      <th>12749.0</th>\n",
              "      <td>4.589549</td>\n",
              "      <td>1.131402</td>\n",
              "      <td>1.609438</td>\n",
              "    </tr>\n",
              "    <tr>\n",
              "      <th>12820.0</th>\n",
              "      <td>4.065602</td>\n",
              "      <td>1.131402</td>\n",
              "      <td>1.386294</td>\n",
              "    </tr>\n",
              "  </tbody>\n",
              "</table>\n",
              "</div>"
            ],
            "text/plain": [
              "             Monetary   Recency  Frequency\n",
              "CustomerID                                \n",
              "12346.0     11.253944  5.784133   0.000000\n",
              "12747.0      6.490708  0.741937   2.302585\n",
              "12748.0      8.226662 -2.302585   5.278115\n",
              "12749.0      4.589549  1.131402   1.609438\n",
              "12820.0      4.065602  1.131402   1.386294"
            ]
          },
          "metadata": {
            "tags": []
          },
          "execution_count": 46
        }
      ]
    },
    {
      "cell_type": "code",
      "metadata": {
        "id": "BVxfxbN4Owxc",
        "colab_type": "code",
        "outputId": "0b359c35-4274-492a-ac2d-4712a3ec06fe",
        "colab": {
          "base_uri": "https://localhost:8080/",
          "height": 788
        }
      },
      "source": [
        "# Produce a scatter matrix for each pair of features in the data\n",
        "scatter_matrix(log_data, alpha = 0.2, figsize = (15, 10), diagonal = 'kde')"
      ],
      "execution_count": 0,
      "outputs": [
        {
          "output_type": "execute_result",
          "data": {
            "text/plain": [
              "array([[<matplotlib.axes._subplots.AxesSubplot object at 0x7f544b3d5978>,\n",
              "        <matplotlib.axes._subplots.AxesSubplot object at 0x7f544b26f0f0>,\n",
              "        <matplotlib.axes._subplots.AxesSubplot object at 0x7f5449a1f358>],\n",
              "       [<matplotlib.axes._subplots.AxesSubplot object at 0x7f54499ce5c0>,\n",
              "        <matplotlib.axes._subplots.AxesSubplot object at 0x7f5449980828>,\n",
              "        <matplotlib.axes._subplots.AxesSubplot object at 0x7f54499b0a90>],\n",
              "       [<matplotlib.axes._subplots.AxesSubplot object at 0x7f5449963cf8>,\n",
              "        <matplotlib.axes._subplots.AxesSubplot object at 0x7f5449913f28>,\n",
              "        <matplotlib.axes._subplots.AxesSubplot object at 0x7f5449913f98>]],\n",
              "      dtype=object)"
            ]
          },
          "metadata": {
            "tags": []
          },
          "execution_count": 47
        },
        {
          "output_type": "display_data",
          "data": {
            "image/png": "[encoded data removed]",
            "text/plain": [
              "<Figure size 1080x720 with 9 Axes>"
            ]
          },
          "metadata": {
            "tags": []
          }
        }
      ]
    },
    {
      "cell_type": "code",
      "metadata": {
        "id": "xvgNoMY_xJrJ",
        "colab_type": "code",
        "outputId": "06e11e80-efc1-4792-e7fe-65a18ac1d495",
        "colab": {
          "base_uri": "https://localhost:8080/",
          "height": 396
        }
      },
      "source": [
        "plt.figure(figsize=(8, 6))\n",
        "sns.heatmap(log_data.corr())"
      ],
      "execution_count": 0,
      "outputs": [
        {
          "output_type": "execute_result",
          "data": {
            "text/plain": [
              "<matplotlib.axes._subplots.AxesSubplot at 0x7f5449797518>"
            ]
          },
          "metadata": {
            "tags": []
          },
          "execution_count": 48
        },
        {
          "output_type": "display_data",
          "data": {
            "image/png": "[encoded data removed]",
            "text/plain": [
              "<Figure size 576x432 with 2 Axes>"
            ]
          },
          "metadata": {
            "tags": []
          }
        }
      ]
    },
    {
      "cell_type": "code",
      "metadata": {
        "id": "Cvdv4mX6yFyw",
        "colab_type": "code",
        "outputId": "6fa35ea3-e374-4929-f8fb-afdaaa0ac371",
        "colab": {
          "base_uri": "https://localhost:8080/",
          "height": 138
        }
      },
      "source": [
        "log_data.corr()"
      ],
      "execution_count": 0,
      "outputs": [
        {
          "output_type": "execute_result",
          "data": {
            "text/html": [
              "<div>\n",
              "<style scoped>\n",
              "    .dataframe tbody tr th:only-of-type {\n",
              "        vertical-align: middle;\n",
              "    }\n",
              "\n",
              "    .dataframe tbody tr th {\n",
              "        vertical-align: top;\n",
              "    }\n",
              "\n",
              "    .dataframe thead th {\n",
              "        text-align: right;\n",
              "    }\n",
              "</style>\n",
              "<table border=\"1\" class=\"dataframe\">\n",
              "  <thead>\n",
              "    <tr style=\"text-align: right;\">\n",
              "      <th></th>\n",
              "      <th>Monetary</th>\n",
              "      <th>Recency</th>\n",
              "      <th>Frequency</th>\n",
              "    </tr>\n",
              "  </thead>\n",
              "  <tbody>\n",
              "    <tr>\n",
              "      <th>Monetary</th>\n",
              "      <td>1.000000</td>\n",
              "      <td>-0.364351</td>\n",
              "      <td>0.715609</td>\n",
              "    </tr>\n",
              "    <tr>\n",
              "      <th>Recency</th>\n",
              "      <td>-0.364351</td>\n",
              "      <td>1.000000</td>\n",
              "      <td>-0.569951</td>\n",
              "    </tr>\n",
              "    <tr>\n",
              "      <th>Frequency</th>\n",
              "      <td>0.715609</td>\n",
              "      <td>-0.569951</td>\n",
              "      <td>1.000000</td>\n",
              "    </tr>\n",
              "  </tbody>\n",
              "</table>\n",
              "</div>"
            ],
            "text/plain": [
              "           Monetary   Recency  Frequency\n",
              "Monetary   1.000000 -0.364351   0.715609\n",
              "Recency   -0.364351  1.000000  -0.569951\n",
              "Frequency  0.715609 -0.569951   1.000000"
            ]
          },
          "metadata": {
            "tags": []
          },
          "execution_count": 49
        }
      ]
    },
    {
      "cell_type": "markdown",
      "metadata": {
        "id": "3-22hd3HyYib",
        "colab_type": "text"
      },
      "source": [
        "We can see that now Frequency-Recency and Monetary-Frequency are more strongly correlated"
      ]
    },
    {
      "cell_type": "markdown",
      "metadata": {
        "id": "nURntnvTzP7r",
        "colab_type": "text"
      },
      "source": [
        "##__K-means Implementation__\n",
        "A common challenge with k-means is that you must tell it how many clusters you expect. Figuring out how many clusters we need is not obvious from data, thus we will try different clusters numbers and check their silhouette coefficient. The silhouette coefficient for a data point measures how similar it is to its assigned cluster from -1 (dissimilar) to 1 (similar). The elbow method can be used to determine the number of clusters as well.\n",
        "\n",
        "Note: K-means is sensitive to initializations because those initializations are critical to quality of optima found. Thus, we will use smart initialization called k-means++."
      ]
    },
    {
      "cell_type": "code",
      "metadata": {
        "id": "EWr0fcYeyW6Z",
        "colab_type": "code",
        "outputId": "62a475f5-042b-4a50-e08f-21cadd0556fe",
        "colab": {
          "base_uri": "https://localhost:8080/",
          "height": 162
        }
      },
      "source": [
        "matrix = log_data.values\n",
        "for n_clusters in range(2, 10):\n",
        "    kmeans = KMeans(init='k-means++', n_clusters = n_clusters, n_init=100)\n",
        "    kmeans.fit(matrix)\n",
        "    clusters = kmeans.predict(matrix)\n",
        "    silhouette_avg = silhouette_score(matrix, clusters)\n",
        "    print(\"For n_clusters =\", n_clusters, \"The average silhouette_score is :\", silhouette_avg)"
      ],
      "execution_count": 0,
      "outputs": [
        {
          "output_type": "stream",
          "text": [
            "For n_clusters = 2 The average silhouette_score is : 0.38930787566743014\n",
            "For n_clusters = 3 The average silhouette_score is : 0.30380548886126\n",
            "For n_clusters = 4 The average silhouette_score is : 0.30981977259666754\n",
            "For n_clusters = 5 The average silhouette_score is : 0.2901550155654932\n",
            "For n_clusters = 6 The average silhouette_score is : 0.29542828811136623\n",
            "For n_clusters = 7 The average silhouette_score is : 0.29126596642485003\n",
            "For n_clusters = 8 The average silhouette_score is : 0.2919445651287872\n",
            "For n_clusters = 9 The average silhouette_score is : 0.2945816519659177\n"
          ],
          "name": "stdout"
        }
      ]
    },
    {
      "cell_type": "markdown",
      "metadata": {
        "id": "Y6H4AZbx0JhN",
        "colab_type": "text"
      },
      "source": [
        "Best score when the number of clusters is 2"
      ]
    },
    {
      "cell_type": "code",
      "metadata": {
        "id": "zZ9L9PpCzh_1",
        "colab_type": "code",
        "outputId": "bb0a2516-a3f5-4aa4-b8a8-7537d394dd61",
        "colab": {
          "base_uri": "https://localhost:8080/",
          "height": 35
        }
      },
      "source": [
        "n_clusters = 2\n",
        "kmeans = KMeans(init='k-means++', n_clusters = n_clusters, n_init=30)\n",
        "kmeans.fit(matrix)\n",
        "clusters_customers = kmeans.predict(matrix)\n",
        "silhouette_avg = silhouette_score(matrix, clusters_customers)\n",
        "print('score de silhouette: {:<.3f}'.format(silhouette_avg))"
      ],
      "execution_count": 0,
      "outputs": [
        {
          "output_type": "stream",
          "text": [
            "score de silhouette: 0.389\n"
          ],
          "name": "stdout"
        }
      ]
    },
    {
      "cell_type": "markdown",
      "metadata": {
        "id": "3QUVFDPi0WlZ",
        "colab_type": "text"
      },
      "source": [
        "####__Visualize Clusters__"
      ]
    },
    {
      "cell_type": "code",
      "metadata": {
        "id": "9EzEP7hn0RlZ",
        "colab_type": "code",
        "outputId": "dafe5da8-8efd-4627-9ec1-2813fff1c384",
        "colab": {
          "base_uri": "https://localhost:8080/",
          "height": 265
        }
      },
      "source": [
        "#create a scatter plot\n",
        "plt.scatter(matrix[:, 0], matrix[:, 1], c=clusters_customers, s=50, cmap='viridis')\n",
        "\n",
        "#select cluster centers\n",
        "centers = kmeans.cluster_centers_\n",
        "plt.scatter(centers[:, 0], centers[:, 1], c='black', s=200, alpha=0.5);"
      ],
      "execution_count": 0,
      "outputs": [
        {
          "output_type": "display_data",
          "data": {
            "image/png": "[encoded data removed]",
            "text/plain": [
              "<Figure size 432x288 with 1 Axes>"
            ]
          },
          "metadata": {
            "tags": []
          }
        }
      ]
    },
    {
      "cell_type": "code",
      "metadata": {
        "id": "yRgpyQgD0cx-",
        "colab_type": "code",
        "outputId": "4bb9ed12-6289-43ad-a64a-97cecd6505d5",
        "colab": {
          "base_uri": "https://localhost:8080/",
          "height": 78
        }
      },
      "source": [
        "# What's the number of customers in each cluster?\n",
        "pd.DataFrame(pd.Series(clusters_customers).value_counts(), columns = ['NumberCustomers']).T"
      ],
      "execution_count": 0,
      "outputs": [
        {
          "output_type": "execute_result",
          "data": {
            "text/html": [
              "<div>\n",
              "<style scoped>\n",
              "    .dataframe tbody tr th:only-of-type {\n",
              "        vertical-align: middle;\n",
              "    }\n",
              "\n",
              "    .dataframe tbody tr th {\n",
              "        vertical-align: top;\n",
              "    }\n",
              "\n",
              "    .dataframe thead th {\n",
              "        text-align: right;\n",
              "    }\n",
              "</style>\n",
              "<table border=\"1\" class=\"dataframe\">\n",
              "  <thead>\n",
              "    <tr style=\"text-align: right;\">\n",
              "      <th></th>\n",
              "      <th>1</th>\n",
              "      <th>0</th>\n",
              "    </tr>\n",
              "  </thead>\n",
              "  <tbody>\n",
              "    <tr>\n",
              "      <th>NumberCustomers</th>\n",
              "      <td>2337</td>\n",
              "      <td>1526</td>\n",
              "    </tr>\n",
              "  </tbody>\n",
              "</table>\n",
              "</div>"
            ],
            "text/plain": [
              "                    1     0\n",
              "NumberCustomers  2337  1526"
            ]
          },
          "metadata": {
            "tags": []
          },
          "execution_count": 53
        }
      ]
    },
    {
      "cell_type": "code",
      "metadata": {
        "id": "Da9URcjc1EHB",
        "colab_type": "code",
        "colab": {}
      },
      "source": [
        ""
      ],
      "execution_count": 0,
      "outputs": []
    }
  ]
}